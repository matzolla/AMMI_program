{
  "cells": [
    {
      "cell_type": "code",
      "execution_count": null,
      "metadata": {
        "id": "hqnl0AKVXIA4"
      },
      "outputs": [],
      "source": [
        "import torch\n",
        "from torch import Tensor"
      ]
    },
    {
      "cell_type": "markdown",
      "metadata": {
        "id": "_2T_C6zsGJpl"
      },
      "source": [
        "# Tutorial 1b: Softmax Function"
      ]
    },
    {
      "cell_type": "markdown",
      "metadata": {
        "id": "g1DV-MS2bxYq"
      },
      "source": [
        "**Question:** To have the logistic regressor output probabilities, they need to be processed through a softmax layer. Implement a softmax layer yourself. What numerical issues may arise in this layer? How can you solve them? Use the testing code to confirm you implemented it correctly."
      ]
    },
    {
      "cell_type": "markdown",
      "source": [
        "1. The numerical issue that can arise in the softmax layer is that for large range of values, the softmax function become unstable and outputs `nan` values.\n",
        "2. To overcome this problem, we normalize the each of the logit by subtracting by the maximum value of the logits. that is: `new_logits=logits-max(logits)`. After this step we compute the softmax using the usual formular defined below."
      ],
      "metadata": {
        "id": "Y-geW_QzAezg"
      }
    },
    {
      "cell_type": "code",
      "execution_count": null,
      "metadata": {
        "id": "wfiu8B3LGJpn"
      },
      "outputs": [],
      "source": [
        "logits = torch.rand((1, 20)) + 100"
      ]
    },
    {
      "cell_type": "code",
      "execution_count": null,
      "metadata": {
        "id": "Dj4X2PnOfK9W"
      },
      "outputs": [],
      "source": [
        "def bad_softmax(x: Tensor) -> Tensor:\n",
        "    return torch.exp(x) / torch.sum(torch.exp(logits), axis=0)"
      ]
    },
    {
      "cell_type": "code",
      "execution_count": null,
      "metadata": {
        "id": "hLVusw8hGJpn",
        "colab": {
          "base_uri": "https://localhost:8080/"
        },
        "outputId": "36dbf5c8-6830-4072-f268-c0458f4a5607"
      },
      "outputs": [
        {
          "output_type": "execute_result",
          "data": {
            "text/plain": [
              "tensor([[nan, nan, nan, nan, nan, nan, nan, nan, nan, nan, nan, nan, nan, nan, nan, nan, nan, nan, nan, nan]])"
            ]
          },
          "metadata": {},
          "execution_count": 8
        }
      ],
      "source": [
        "bad_softmax(logits)"
      ]
    },
    {
      "cell_type": "markdown",
      "source": [
        "In this section we provide two implementations of the `good softmax` function."
      ],
      "metadata": {
        "id": "FmKXr9AfFOJA"
      }
    },
    {
      "cell_type": "code",
      "execution_count": null,
      "metadata": {
        "id": "qzAxyjEEGJpo"
      },
      "outputs": [],
      "source": [
        "def good_softmax(x: Tensor) -> Tensor:\n",
        "    ###########################################################################\n",
        "    # TODO: Implement a more stable way to compute softmax                    #\n",
        "    max= torch.max(x.squeeze(0))\n",
        "    # softmax= x.squeeze(0)-max-torch.log(torch.sum(torch.exp(x.squeeze(0)-max)))\n",
        "    # print(len(x))\n",
        "    x_= x-max\n",
        "    softmax= torch.exp(x_) / torch.sum(torch.exp(x_))\n",
        "\n",
        "    # softmax= [x[i]-max-torch.log(torch.sum(torch.exp(x-max),axis=0)) for i in range(len(x.squeeze(0)))]\n",
        "    ###########################################################################\n",
        "    return softmax"
      ]
    },
    {
      "cell_type": "code",
      "source": [
        "def good_softmax(x: Tensor) -> Tensor:\n",
        "    ###########################################################################\n",
        "    # TODO: Implement a more stable way to compute softmax                    #\n",
        "    max= torch.max(x.squeeze(0))\n",
        "    softmax= x.squeeze(0)-max-torch.log(torch.sum(torch.exp(x.squeeze(0)-max)))\n",
        "    # print(len(x))\n",
        "    # x_= x-max\n",
        "    # softmax= torch.exp(x_) / torch.sum(torch.exp(x_))\n",
        "\n",
        "    #softmax= [x[i]-max-torch.log(torch.sum(torch.exp(x-max),axis=0)) for i in range(len(x.squeeze(0)))]\n",
        "    ###########################################################################\n",
        "    return torch.exp(softmax)"
      ],
      "metadata": {
        "id": "tDmatNL3VJOc"
      },
      "execution_count": null,
      "outputs": []
    },
    {
      "cell_type": "code",
      "source": [
        "good_softmax(logits)"
      ],
      "metadata": {
        "colab": {
          "base_uri": "https://localhost:8080/"
        },
        "id": "DmoebJjSSSkm",
        "outputId": "918f228c-720f-4668-e46b-414a0b418180"
      },
      "execution_count": null,
      "outputs": [
        {
          "output_type": "execute_result",
          "data": {
            "text/plain": [
              "tensor([0.0435, 0.0468, 0.0488, 0.0460, 0.0393, 0.0772, 0.0323, 0.0719, 0.0408,\n",
              "        0.0331, 0.0360, 0.0570, 0.0843, 0.0677, 0.0347, 0.0323, 0.0738, 0.0459,\n",
              "        0.0468, 0.0418])"
            ]
          },
          "metadata": {},
          "execution_count": 11
        }
      ]
    },
    {
      "cell_type": "code",
      "execution_count": null,
      "metadata": {
        "id": "aWhK0rxGGJpo",
        "colab": {
          "base_uri": "https://localhost:8080/"
        },
        "outputId": "daf206f5-0f4b-4a4c-be3d-222cd7611fae"
      },
      "outputs": [
        {
          "output_type": "execute_result",
          "data": {
            "text/plain": [
              "tensor(1.)"
            ]
          },
          "metadata": {},
          "execution_count": 12
        }
      ],
      "source": [
        "torch.sum(good_softmax(logits))"
      ]
    },
    {
      "cell_type": "markdown",
      "metadata": {
        "id": "4C_J5S0RScXJ"
      },
      "source": [
        "Because of numerical issues like the one you just experiences, PyTorch code typically uses a `LogSoftmax` layer."
      ]
    },
    {
      "cell_type": "markdown",
      "metadata": {
        "id": "lgStX-ctjIms"
      },
      "source": [
        "**Question [optional]:** PyTorch automatically computes the backpropagation gradient of a module for you. However, it can be instructive to derive and implement your own backward function. Try and implement the backward function for your softmax module and confirm that it is correct."
      ]
    }
  ],
  "metadata": {
    "accelerator": "GPU",
    "colab": {
      "collapsed_sections": [],
      "name": "convnet_tutorial1b_Tchangmena_A_Nken_Allassan.ipynb",
      "provenance": []
    },
    "kernelspec": {
      "display_name": "convnet_tutorials",
      "language": "python",
      "name": "convnet_tutorials"
    },
    "language_info": {
      "codemirror_mode": {
        "name": "ipython",
        "version": 3
      },
      "file_extension": ".py",
      "mimetype": "text/x-python",
      "name": "python",
      "nbconvert_exporter": "python",
      "pygments_lexer": "ipython3",
      "version": "3.9.10"
    }
  },
  "nbformat": 4,
  "nbformat_minor": 0
}