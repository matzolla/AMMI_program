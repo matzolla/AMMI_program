{
  "nbformat": 4,
  "nbformat_minor": 0,
  "metadata": {
    "colab": {
      "name": "Tchangmena_A_Nken_Allassan_LogRegression.ipynb",
      "provenance": [],
      "collapsed_sections": []
    },
    "kernelspec": {
      "name": "python3",
      "display_name": "Python 3"
    },
    "language_info": {
      "name": "python"
    }
  },
  "cells": [
    {
      "cell_type": "markdown",
      "source": [
        "[![Open In Colab](https://colab.research.google.com/assets/colab-badge.svg)](https://colab.research.google.com/github/googlecolab/colabtools/blob/master/notebooks/colab-github-demo.ipynb)"
      ],
      "metadata": {
        "id": "3hu6wCiSyg4B"
      }
    },
    {
      "cell_type": "markdown",
      "source": [
        "# Logistic Regression Implementation"
      ],
      "metadata": {
        "id": "3H4HVu_0ckc5"
      }
    },
    {
      "cell_type": "markdown",
      "source": [
        "# Instructions:\n",
        "1. Save a copy of this notebook in your drive;\n",
        "2. Name it by: `Your_fullname_LogRegression.ipynb`\n",
        "3. Close the original notebook\n",
        "4. Start typing your codes.\n",
        "\n",
        "`Note:` Discuss with your neighbors."
      ],
      "metadata": {
        "id": "7RO8S4CbmJVH"
      }
    },
    {
      "cell_type": "markdown",
      "source": [
        "# Part 1: Data preparation\n",
        "\n",
        "## Import Dataset Libraries"
      ],
      "metadata": {
        "id": "VhL_jPWQZCoX"
      }
    },
    {
      "cell_type": "code",
      "execution_count": 7,
      "metadata": {
        "id": "h5tJBDqB444I"
      },
      "outputs": [],
      "source": [
        "import numpy as np\n",
        "import pandas as pd\n",
        "import matplotlib.pyplot as plt"
      ]
    },
    {
      "cell_type": "markdown",
      "source": [
        "Question 0: Import the dataset Dataset"
      ],
      "metadata": {
        "id": "wwf9SiJ4ZEvs"
      }
    },
    {
      "cell_type": "code",
      "source": [
        "##### WRITE YOUR CODE HERE #####\n",
        "path= '/content/diabetes.csv'\n",
        "data= pd.read_csv(path)\n",
        "#### END CODE ####"
      ],
      "metadata": {
        "id": "R42UJPRzUYPW"
      },
      "execution_count": 8,
      "outputs": []
    },
    {
      "cell_type": "markdown",
      "source": [
        "Question 1: Print the first five rows of the Dataset"
      ],
      "metadata": {
        "id": "cFQTnXLoXgy4"
      }
    },
    {
      "cell_type": "code",
      "source": [
        "##### WRITE YOUR CODE HERE #####\n",
        "data.head(5)\n",
        "#### END CODE ####"
      ],
      "metadata": {
        "colab": {
          "base_uri": "https://localhost:8080/",
          "height": 204
        },
        "id": "Fj4Vhz42U5fd",
        "outputId": "f3b7a59c-669a-470f-a172-aa0918253030"
      },
      "execution_count": 9,
      "outputs": [
        {
          "output_type": "execute_result",
          "data": {
            "text/html": [
              "\n",
              "  <div id=\"df-f56506a3-c92f-4798-b7f1-3869f1931a89\">\n",
              "    <div class=\"colab-df-container\">\n",
              "      <div>\n",
              "<style scoped>\n",
              "    .dataframe tbody tr th:only-of-type {\n",
              "        vertical-align: middle;\n",
              "    }\n",
              "\n",
              "    .dataframe tbody tr th {\n",
              "        vertical-align: top;\n",
              "    }\n",
              "\n",
              "    .dataframe thead th {\n",
              "        text-align: right;\n",
              "    }\n",
              "</style>\n",
              "<table border=\"1\" class=\"dataframe\">\n",
              "  <thead>\n",
              "    <tr style=\"text-align: right;\">\n",
              "      <th></th>\n",
              "      <th>Pregnancies</th>\n",
              "      <th>Glucose</th>\n",
              "      <th>BloodPressure</th>\n",
              "      <th>SkinThickness</th>\n",
              "      <th>Insulin</th>\n",
              "      <th>BMI</th>\n",
              "      <th>DiabetesPedigreeFunction</th>\n",
              "      <th>Age</th>\n",
              "      <th>Outcome</th>\n",
              "    </tr>\n",
              "  </thead>\n",
              "  <tbody>\n",
              "    <tr>\n",
              "      <th>0</th>\n",
              "      <td>6</td>\n",
              "      <td>148</td>\n",
              "      <td>72</td>\n",
              "      <td>35</td>\n",
              "      <td>0</td>\n",
              "      <td>33.6</td>\n",
              "      <td>0.627</td>\n",
              "      <td>50</td>\n",
              "      <td>1</td>\n",
              "    </tr>\n",
              "    <tr>\n",
              "      <th>1</th>\n",
              "      <td>1</td>\n",
              "      <td>85</td>\n",
              "      <td>66</td>\n",
              "      <td>29</td>\n",
              "      <td>0</td>\n",
              "      <td>26.6</td>\n",
              "      <td>0.351</td>\n",
              "      <td>31</td>\n",
              "      <td>0</td>\n",
              "    </tr>\n",
              "    <tr>\n",
              "      <th>2</th>\n",
              "      <td>8</td>\n",
              "      <td>183</td>\n",
              "      <td>64</td>\n",
              "      <td>0</td>\n",
              "      <td>0</td>\n",
              "      <td>23.3</td>\n",
              "      <td>0.672</td>\n",
              "      <td>32</td>\n",
              "      <td>1</td>\n",
              "    </tr>\n",
              "    <tr>\n",
              "      <th>3</th>\n",
              "      <td>1</td>\n",
              "      <td>89</td>\n",
              "      <td>66</td>\n",
              "      <td>23</td>\n",
              "      <td>94</td>\n",
              "      <td>28.1</td>\n",
              "      <td>0.167</td>\n",
              "      <td>21</td>\n",
              "      <td>0</td>\n",
              "    </tr>\n",
              "    <tr>\n",
              "      <th>4</th>\n",
              "      <td>0</td>\n",
              "      <td>137</td>\n",
              "      <td>40</td>\n",
              "      <td>35</td>\n",
              "      <td>168</td>\n",
              "      <td>43.1</td>\n",
              "      <td>2.288</td>\n",
              "      <td>33</td>\n",
              "      <td>1</td>\n",
              "    </tr>\n",
              "  </tbody>\n",
              "</table>\n",
              "</div>\n",
              "      <button class=\"colab-df-convert\" onclick=\"convertToInteractive('df-f56506a3-c92f-4798-b7f1-3869f1931a89')\"\n",
              "              title=\"Convert this dataframe to an interactive table.\"\n",
              "              style=\"display:none;\">\n",
              "        \n",
              "  <svg xmlns=\"http://www.w3.org/2000/svg\" height=\"24px\"viewBox=\"0 0 24 24\"\n",
              "       width=\"24px\">\n",
              "    <path d=\"M0 0h24v24H0V0z\" fill=\"none\"/>\n",
              "    <path d=\"M18.56 5.44l.94 2.06.94-2.06 2.06-.94-2.06-.94-.94-2.06-.94 2.06-2.06.94zm-11 1L8.5 8.5l.94-2.06 2.06-.94-2.06-.94L8.5 2.5l-.94 2.06-2.06.94zm10 10l.94 2.06.94-2.06 2.06-.94-2.06-.94-.94-2.06-.94 2.06-2.06.94z\"/><path d=\"M17.41 7.96l-1.37-1.37c-.4-.4-.92-.59-1.43-.59-.52 0-1.04.2-1.43.59L10.3 9.45l-7.72 7.72c-.78.78-.78 2.05 0 2.83L4 21.41c.39.39.9.59 1.41.59.51 0 1.02-.2 1.41-.59l7.78-7.78 2.81-2.81c.8-.78.8-2.07 0-2.86zM5.41 20L4 18.59l7.72-7.72 1.47 1.35L5.41 20z\"/>\n",
              "  </svg>\n",
              "      </button>\n",
              "      \n",
              "  <style>\n",
              "    .colab-df-container {\n",
              "      display:flex;\n",
              "      flex-wrap:wrap;\n",
              "      gap: 12px;\n",
              "    }\n",
              "\n",
              "    .colab-df-convert {\n",
              "      background-color: #E8F0FE;\n",
              "      border: none;\n",
              "      border-radius: 50%;\n",
              "      cursor: pointer;\n",
              "      display: none;\n",
              "      fill: #1967D2;\n",
              "      height: 32px;\n",
              "      padding: 0 0 0 0;\n",
              "      width: 32px;\n",
              "    }\n",
              "\n",
              "    .colab-df-convert:hover {\n",
              "      background-color: #E2EBFA;\n",
              "      box-shadow: 0px 1px 2px rgba(60, 64, 67, 0.3), 0px 1px 3px 1px rgba(60, 64, 67, 0.15);\n",
              "      fill: #174EA6;\n",
              "    }\n",
              "\n",
              "    [theme=dark] .colab-df-convert {\n",
              "      background-color: #3B4455;\n",
              "      fill: #D2E3FC;\n",
              "    }\n",
              "\n",
              "    [theme=dark] .colab-df-convert:hover {\n",
              "      background-color: #434B5C;\n",
              "      box-shadow: 0px 1px 3px 1px rgba(0, 0, 0, 0.15);\n",
              "      filter: drop-shadow(0px 1px 2px rgba(0, 0, 0, 0.3));\n",
              "      fill: #FFFFFF;\n",
              "    }\n",
              "  </style>\n",
              "\n",
              "      <script>\n",
              "        const buttonEl =\n",
              "          document.querySelector('#df-f56506a3-c92f-4798-b7f1-3869f1931a89 button.colab-df-convert');\n",
              "        buttonEl.style.display =\n",
              "          google.colab.kernel.accessAllowed ? 'block' : 'none';\n",
              "\n",
              "        async function convertToInteractive(key) {\n",
              "          const element = document.querySelector('#df-f56506a3-c92f-4798-b7f1-3869f1931a89');\n",
              "          const dataTable =\n",
              "            await google.colab.kernel.invokeFunction('convertToInteractive',\n",
              "                                                     [key], {});\n",
              "          if (!dataTable) return;\n",
              "\n",
              "          const docLinkHtml = 'Like what you see? Visit the ' +\n",
              "            '<a target=\"_blank\" href=https://colab.research.google.com/notebooks/data_table.ipynb>data table notebook</a>'\n",
              "            + ' to learn more about interactive tables.';\n",
              "          element.innerHTML = '';\n",
              "          dataTable['output_type'] = 'display_data';\n",
              "          await google.colab.output.renderOutput(dataTable, element);\n",
              "          const docLink = document.createElement('div');\n",
              "          docLink.innerHTML = docLinkHtml;\n",
              "          element.appendChild(docLink);\n",
              "        }\n",
              "      </script>\n",
              "    </div>\n",
              "  </div>\n",
              "  "
            ],
            "text/plain": [
              "   Pregnancies  Glucose  BloodPressure  ...  DiabetesPedigreeFunction  Age  Outcome\n",
              "0            6      148             72  ...                     0.627   50        1\n",
              "1            1       85             66  ...                     0.351   31        0\n",
              "2            8      183             64  ...                     0.672   32        1\n",
              "3            1       89             66  ...                     0.167   21        0\n",
              "4            0      137             40  ...                     2.288   33        1\n",
              "\n",
              "[5 rows x 9 columns]"
            ]
          },
          "metadata": {},
          "execution_count": 9
        }
      ]
    },
    {
      "cell_type": "markdown",
      "source": [
        "Question 2: Check the types of your variables/features"
      ],
      "metadata": {
        "id": "6iVatSkruxwb"
      }
    },
    {
      "cell_type": "code",
      "source": [
        "##### WRITE YOUR CODE HERE #####\n",
        "data.dtypes\n",
        "#### END CODE ####"
      ],
      "metadata": {
        "colab": {
          "base_uri": "https://localhost:8080/"
        },
        "id": "tM09phY_U8J_",
        "outputId": "a42b4758-f104-4548-fdd1-1bba47d55944"
      },
      "execution_count": 10,
      "outputs": [
        {
          "output_type": "execute_result",
          "data": {
            "text/plain": [
              "Pregnancies                   int64\n",
              "Glucose                       int64\n",
              "BloodPressure                 int64\n",
              "SkinThickness                 int64\n",
              "Insulin                       int64\n",
              "BMI                         float64\n",
              "DiabetesPedigreeFunction    float64\n",
              "Age                           int64\n",
              "Outcome                       int64\n",
              "dtype: object"
            ]
          },
          "metadata": {},
          "execution_count": 10
        }
      ]
    },
    {
      "cell_type": "markdown",
      "source": [
        "Question 3: Describe your dataset"
      ],
      "metadata": {
        "id": "o7idUq99XlAH"
      }
    },
    {
      "cell_type": "code",
      "source": [
        "##### WRITE YOUR CODE HERE #####\n",
        "data.describe()\n",
        "#### END CODE ####"
      ],
      "metadata": {
        "colab": {
          "base_uri": "https://localhost:8080/",
          "height": 297
        },
        "id": "qWo3tf5dZadO",
        "outputId": "12dd2c4c-8239-4c5a-e4ec-f39ca6eaa20a"
      },
      "execution_count": 11,
      "outputs": [
        {
          "output_type": "execute_result",
          "data": {
            "text/html": [
              "\n",
              "  <div id=\"df-4b553dd4-bdde-4d0a-acb0-0f9e86e6c515\">\n",
              "    <div class=\"colab-df-container\">\n",
              "      <div>\n",
              "<style scoped>\n",
              "    .dataframe tbody tr th:only-of-type {\n",
              "        vertical-align: middle;\n",
              "    }\n",
              "\n",
              "    .dataframe tbody tr th {\n",
              "        vertical-align: top;\n",
              "    }\n",
              "\n",
              "    .dataframe thead th {\n",
              "        text-align: right;\n",
              "    }\n",
              "</style>\n",
              "<table border=\"1\" class=\"dataframe\">\n",
              "  <thead>\n",
              "    <tr style=\"text-align: right;\">\n",
              "      <th></th>\n",
              "      <th>Pregnancies</th>\n",
              "      <th>Glucose</th>\n",
              "      <th>BloodPressure</th>\n",
              "      <th>SkinThickness</th>\n",
              "      <th>Insulin</th>\n",
              "      <th>BMI</th>\n",
              "      <th>DiabetesPedigreeFunction</th>\n",
              "      <th>Age</th>\n",
              "      <th>Outcome</th>\n",
              "    </tr>\n",
              "  </thead>\n",
              "  <tbody>\n",
              "    <tr>\n",
              "      <th>count</th>\n",
              "      <td>768.000000</td>\n",
              "      <td>768.000000</td>\n",
              "      <td>768.000000</td>\n",
              "      <td>768.000000</td>\n",
              "      <td>768.000000</td>\n",
              "      <td>768.000000</td>\n",
              "      <td>768.000000</td>\n",
              "      <td>768.000000</td>\n",
              "      <td>768.000000</td>\n",
              "    </tr>\n",
              "    <tr>\n",
              "      <th>mean</th>\n",
              "      <td>3.845052</td>\n",
              "      <td>120.894531</td>\n",
              "      <td>69.105469</td>\n",
              "      <td>20.536458</td>\n",
              "      <td>79.799479</td>\n",
              "      <td>31.992578</td>\n",
              "      <td>0.471876</td>\n",
              "      <td>33.240885</td>\n",
              "      <td>0.348958</td>\n",
              "    </tr>\n",
              "    <tr>\n",
              "      <th>std</th>\n",
              "      <td>3.369578</td>\n",
              "      <td>31.972618</td>\n",
              "      <td>19.355807</td>\n",
              "      <td>15.952218</td>\n",
              "      <td>115.244002</td>\n",
              "      <td>7.884160</td>\n",
              "      <td>0.331329</td>\n",
              "      <td>11.760232</td>\n",
              "      <td>0.476951</td>\n",
              "    </tr>\n",
              "    <tr>\n",
              "      <th>min</th>\n",
              "      <td>0.000000</td>\n",
              "      <td>0.000000</td>\n",
              "      <td>0.000000</td>\n",
              "      <td>0.000000</td>\n",
              "      <td>0.000000</td>\n",
              "      <td>0.000000</td>\n",
              "      <td>0.078000</td>\n",
              "      <td>21.000000</td>\n",
              "      <td>0.000000</td>\n",
              "    </tr>\n",
              "    <tr>\n",
              "      <th>25%</th>\n",
              "      <td>1.000000</td>\n",
              "      <td>99.000000</td>\n",
              "      <td>62.000000</td>\n",
              "      <td>0.000000</td>\n",
              "      <td>0.000000</td>\n",
              "      <td>27.300000</td>\n",
              "      <td>0.243750</td>\n",
              "      <td>24.000000</td>\n",
              "      <td>0.000000</td>\n",
              "    </tr>\n",
              "    <tr>\n",
              "      <th>50%</th>\n",
              "      <td>3.000000</td>\n",
              "      <td>117.000000</td>\n",
              "      <td>72.000000</td>\n",
              "      <td>23.000000</td>\n",
              "      <td>30.500000</td>\n",
              "      <td>32.000000</td>\n",
              "      <td>0.372500</td>\n",
              "      <td>29.000000</td>\n",
              "      <td>0.000000</td>\n",
              "    </tr>\n",
              "    <tr>\n",
              "      <th>75%</th>\n",
              "      <td>6.000000</td>\n",
              "      <td>140.250000</td>\n",
              "      <td>80.000000</td>\n",
              "      <td>32.000000</td>\n",
              "      <td>127.250000</td>\n",
              "      <td>36.600000</td>\n",
              "      <td>0.626250</td>\n",
              "      <td>41.000000</td>\n",
              "      <td>1.000000</td>\n",
              "    </tr>\n",
              "    <tr>\n",
              "      <th>max</th>\n",
              "      <td>17.000000</td>\n",
              "      <td>199.000000</td>\n",
              "      <td>122.000000</td>\n",
              "      <td>99.000000</td>\n",
              "      <td>846.000000</td>\n",
              "      <td>67.100000</td>\n",
              "      <td>2.420000</td>\n",
              "      <td>81.000000</td>\n",
              "      <td>1.000000</td>\n",
              "    </tr>\n",
              "  </tbody>\n",
              "</table>\n",
              "</div>\n",
              "      <button class=\"colab-df-convert\" onclick=\"convertToInteractive('df-4b553dd4-bdde-4d0a-acb0-0f9e86e6c515')\"\n",
              "              title=\"Convert this dataframe to an interactive table.\"\n",
              "              style=\"display:none;\">\n",
              "        \n",
              "  <svg xmlns=\"http://www.w3.org/2000/svg\" height=\"24px\"viewBox=\"0 0 24 24\"\n",
              "       width=\"24px\">\n",
              "    <path d=\"M0 0h24v24H0V0z\" fill=\"none\"/>\n",
              "    <path d=\"M18.56 5.44l.94 2.06.94-2.06 2.06-.94-2.06-.94-.94-2.06-.94 2.06-2.06.94zm-11 1L8.5 8.5l.94-2.06 2.06-.94-2.06-.94L8.5 2.5l-.94 2.06-2.06.94zm10 10l.94 2.06.94-2.06 2.06-.94-2.06-.94-.94-2.06-.94 2.06-2.06.94z\"/><path d=\"M17.41 7.96l-1.37-1.37c-.4-.4-.92-.59-1.43-.59-.52 0-1.04.2-1.43.59L10.3 9.45l-7.72 7.72c-.78.78-.78 2.05 0 2.83L4 21.41c.39.39.9.59 1.41.59.51 0 1.02-.2 1.41-.59l7.78-7.78 2.81-2.81c.8-.78.8-2.07 0-2.86zM5.41 20L4 18.59l7.72-7.72 1.47 1.35L5.41 20z\"/>\n",
              "  </svg>\n",
              "      </button>\n",
              "      \n",
              "  <style>\n",
              "    .colab-df-container {\n",
              "      display:flex;\n",
              "      flex-wrap:wrap;\n",
              "      gap: 12px;\n",
              "    }\n",
              "\n",
              "    .colab-df-convert {\n",
              "      background-color: #E8F0FE;\n",
              "      border: none;\n",
              "      border-radius: 50%;\n",
              "      cursor: pointer;\n",
              "      display: none;\n",
              "      fill: #1967D2;\n",
              "      height: 32px;\n",
              "      padding: 0 0 0 0;\n",
              "      width: 32px;\n",
              "    }\n",
              "\n",
              "    .colab-df-convert:hover {\n",
              "      background-color: #E2EBFA;\n",
              "      box-shadow: 0px 1px 2px rgba(60, 64, 67, 0.3), 0px 1px 3px 1px rgba(60, 64, 67, 0.15);\n",
              "      fill: #174EA6;\n",
              "    }\n",
              "\n",
              "    [theme=dark] .colab-df-convert {\n",
              "      background-color: #3B4455;\n",
              "      fill: #D2E3FC;\n",
              "    }\n",
              "\n",
              "    [theme=dark] .colab-df-convert:hover {\n",
              "      background-color: #434B5C;\n",
              "      box-shadow: 0px 1px 3px 1px rgba(0, 0, 0, 0.15);\n",
              "      filter: drop-shadow(0px 1px 2px rgba(0, 0, 0, 0.3));\n",
              "      fill: #FFFFFF;\n",
              "    }\n",
              "  </style>\n",
              "\n",
              "      <script>\n",
              "        const buttonEl =\n",
              "          document.querySelector('#df-4b553dd4-bdde-4d0a-acb0-0f9e86e6c515 button.colab-df-convert');\n",
              "        buttonEl.style.display =\n",
              "          google.colab.kernel.accessAllowed ? 'block' : 'none';\n",
              "\n",
              "        async function convertToInteractive(key) {\n",
              "          const element = document.querySelector('#df-4b553dd4-bdde-4d0a-acb0-0f9e86e6c515');\n",
              "          const dataTable =\n",
              "            await google.colab.kernel.invokeFunction('convertToInteractive',\n",
              "                                                     [key], {});\n",
              "          if (!dataTable) return;\n",
              "\n",
              "          const docLinkHtml = 'Like what you see? Visit the ' +\n",
              "            '<a target=\"_blank\" href=https://colab.research.google.com/notebooks/data_table.ipynb>data table notebook</a>'\n",
              "            + ' to learn more about interactive tables.';\n",
              "          element.innerHTML = '';\n",
              "          dataTable['output_type'] = 'display_data';\n",
              "          await google.colab.output.renderOutput(dataTable, element);\n",
              "          const docLink = document.createElement('div');\n",
              "          docLink.innerHTML = docLinkHtml;\n",
              "          element.appendChild(docLink);\n",
              "        }\n",
              "      </script>\n",
              "    </div>\n",
              "  </div>\n",
              "  "
            ],
            "text/plain": [
              "       Pregnancies     Glucose  ...         Age     Outcome\n",
              "count   768.000000  768.000000  ...  768.000000  768.000000\n",
              "mean      3.845052  120.894531  ...   33.240885    0.348958\n",
              "std       3.369578   31.972618  ...   11.760232    0.476951\n",
              "min       0.000000    0.000000  ...   21.000000    0.000000\n",
              "25%       1.000000   99.000000  ...   24.000000    0.000000\n",
              "50%       3.000000  117.000000  ...   29.000000    0.000000\n",
              "75%       6.000000  140.250000  ...   41.000000    1.000000\n",
              "max      17.000000  199.000000  ...   81.000000    1.000000\n",
              "\n",
              "[8 rows x 9 columns]"
            ]
          },
          "metadata": {},
          "execution_count": 11
        }
      ]
    },
    {
      "cell_type": "markdown",
      "source": [
        "Question 4: write a function that scale your features.\n",
        "`Hint:` $x'= \\dfrac{x-\\mu}{\\sigma}$ \n",
        "where $\\mu$ is the mean and $\\sigma$ the standard deviation of $x$."
      ],
      "metadata": {
        "id": "XLhl5xo2XpTi"
      }
    },
    {
      "cell_type": "code",
      "source": [
        "##### WRITE YOUR CODE HERE #####\n",
        "def scale_mean(data):\n",
        "  data.iloc[:,:-1]=(data.iloc[:,:-1]-data.iloc[:,:-1].mean())/(data.iloc[:,:-1].std())\n",
        "\n",
        "  return data\n",
        "#### END CODE ####"
      ],
      "metadata": {
        "id": "uHqEW65wXvNf"
      },
      "execution_count": 12,
      "outputs": []
    },
    {
      "cell_type": "markdown",
      "source": [
        "Question 5: Scale your features, except the target. "
      ],
      "metadata": {
        "id": "xHrdxls1Xx-6"
      }
    },
    {
      "cell_type": "code",
      "source": [
        "##### WRITE YOUR CODE HERE #####\n",
        "scale_mean(data)\n",
        "#### END CODE #### "
      ],
      "metadata": {
        "id": "dF2xJum5YAkM",
        "colab": {
          "base_uri": "https://localhost:8080/",
          "height": 419
        },
        "outputId": "05f8c0f9-9026-4764-9c66-26d522fd5fc7"
      },
      "execution_count": 15,
      "outputs": [
        {
          "output_type": "execute_result",
          "data": {
            "text/html": [
              "\n",
              "  <div id=\"df-685aa0a7-bf0a-491d-9f0e-c4b68c598448\">\n",
              "    <div class=\"colab-df-container\">\n",
              "      <div>\n",
              "<style scoped>\n",
              "    .dataframe tbody tr th:only-of-type {\n",
              "        vertical-align: middle;\n",
              "    }\n",
              "\n",
              "    .dataframe tbody tr th {\n",
              "        vertical-align: top;\n",
              "    }\n",
              "\n",
              "    .dataframe thead th {\n",
              "        text-align: right;\n",
              "    }\n",
              "</style>\n",
              "<table border=\"1\" class=\"dataframe\">\n",
              "  <thead>\n",
              "    <tr style=\"text-align: right;\">\n",
              "      <th></th>\n",
              "      <th>Pregnancies</th>\n",
              "      <th>Glucose</th>\n",
              "      <th>BloodPressure</th>\n",
              "      <th>SkinThickness</th>\n",
              "      <th>Insulin</th>\n",
              "      <th>BMI</th>\n",
              "      <th>DiabetesPedigreeFunction</th>\n",
              "      <th>Age</th>\n",
              "      <th>Outcome</th>\n",
              "    </tr>\n",
              "  </thead>\n",
              "  <tbody>\n",
              "    <tr>\n",
              "      <th>0</th>\n",
              "      <td>0.639530</td>\n",
              "      <td>0.847771</td>\n",
              "      <td>0.149543</td>\n",
              "      <td>0.906679</td>\n",
              "      <td>-0.692439</td>\n",
              "      <td>0.203880</td>\n",
              "      <td>0.468187</td>\n",
              "      <td>1.425067</td>\n",
              "      <td>1</td>\n",
              "    </tr>\n",
              "    <tr>\n",
              "      <th>1</th>\n",
              "      <td>-0.844335</td>\n",
              "      <td>-1.122665</td>\n",
              "      <td>-0.160441</td>\n",
              "      <td>0.530556</td>\n",
              "      <td>-0.692439</td>\n",
              "      <td>-0.683976</td>\n",
              "      <td>-0.364823</td>\n",
              "      <td>-0.190548</td>\n",
              "      <td>0</td>\n",
              "    </tr>\n",
              "    <tr>\n",
              "      <th>2</th>\n",
              "      <td>1.233077</td>\n",
              "      <td>1.942458</td>\n",
              "      <td>-0.263769</td>\n",
              "      <td>-1.287373</td>\n",
              "      <td>-0.692439</td>\n",
              "      <td>-1.102537</td>\n",
              "      <td>0.604004</td>\n",
              "      <td>-0.105515</td>\n",
              "      <td>1</td>\n",
              "    </tr>\n",
              "    <tr>\n",
              "      <th>3</th>\n",
              "      <td>-0.844335</td>\n",
              "      <td>-0.997558</td>\n",
              "      <td>-0.160441</td>\n",
              "      <td>0.154433</td>\n",
              "      <td>0.123221</td>\n",
              "      <td>-0.493721</td>\n",
              "      <td>-0.920163</td>\n",
              "      <td>-1.040871</td>\n",
              "      <td>0</td>\n",
              "    </tr>\n",
              "    <tr>\n",
              "      <th>4</th>\n",
              "      <td>-1.141108</td>\n",
              "      <td>0.503727</td>\n",
              "      <td>-1.503707</td>\n",
              "      <td>0.906679</td>\n",
              "      <td>0.765337</td>\n",
              "      <td>1.408828</td>\n",
              "      <td>5.481337</td>\n",
              "      <td>-0.020483</td>\n",
              "      <td>1</td>\n",
              "    </tr>\n",
              "    <tr>\n",
              "      <th>...</th>\n",
              "      <td>...</td>\n",
              "      <td>...</td>\n",
              "      <td>...</td>\n",
              "      <td>...</td>\n",
              "      <td>...</td>\n",
              "      <td>...</td>\n",
              "      <td>...</td>\n",
              "      <td>...</td>\n",
              "      <td>...</td>\n",
              "    </tr>\n",
              "    <tr>\n",
              "      <th>763</th>\n",
              "      <td>1.826623</td>\n",
              "      <td>-0.622237</td>\n",
              "      <td>0.356200</td>\n",
              "      <td>1.721613</td>\n",
              "      <td>0.869464</td>\n",
              "      <td>0.115094</td>\n",
              "      <td>-0.908090</td>\n",
              "      <td>2.530487</td>\n",
              "      <td>0</td>\n",
              "    </tr>\n",
              "    <tr>\n",
              "      <th>764</th>\n",
              "      <td>-0.547562</td>\n",
              "      <td>0.034575</td>\n",
              "      <td>0.046215</td>\n",
              "      <td>0.405181</td>\n",
              "      <td>-0.692439</td>\n",
              "      <td>0.609757</td>\n",
              "      <td>-0.398023</td>\n",
              "      <td>-0.530677</td>\n",
              "      <td>0</td>\n",
              "    </tr>\n",
              "    <tr>\n",
              "      <th>765</th>\n",
              "      <td>0.342757</td>\n",
              "      <td>0.003299</td>\n",
              "      <td>0.149543</td>\n",
              "      <td>0.154433</td>\n",
              "      <td>0.279412</td>\n",
              "      <td>-0.734711</td>\n",
              "      <td>-0.684747</td>\n",
              "      <td>-0.275580</td>\n",
              "      <td>0</td>\n",
              "    </tr>\n",
              "    <tr>\n",
              "      <th>766</th>\n",
              "      <td>-0.844335</td>\n",
              "      <td>0.159683</td>\n",
              "      <td>-0.470426</td>\n",
              "      <td>-1.287373</td>\n",
              "      <td>-0.692439</td>\n",
              "      <td>-0.240048</td>\n",
              "      <td>-0.370859</td>\n",
              "      <td>1.169970</td>\n",
              "      <td>1</td>\n",
              "    </tr>\n",
              "    <tr>\n",
              "      <th>767</th>\n",
              "      <td>-0.844335</td>\n",
              "      <td>-0.872451</td>\n",
              "      <td>0.046215</td>\n",
              "      <td>0.655930</td>\n",
              "      <td>-0.692439</td>\n",
              "      <td>-0.201997</td>\n",
              "      <td>-0.473476</td>\n",
              "      <td>-0.870806</td>\n",
              "      <td>0</td>\n",
              "    </tr>\n",
              "  </tbody>\n",
              "</table>\n",
              "<p>768 rows × 9 columns</p>\n",
              "</div>\n",
              "      <button class=\"colab-df-convert\" onclick=\"convertToInteractive('df-685aa0a7-bf0a-491d-9f0e-c4b68c598448')\"\n",
              "              title=\"Convert this dataframe to an interactive table.\"\n",
              "              style=\"display:none;\">\n",
              "        \n",
              "  <svg xmlns=\"http://www.w3.org/2000/svg\" height=\"24px\"viewBox=\"0 0 24 24\"\n",
              "       width=\"24px\">\n",
              "    <path d=\"M0 0h24v24H0V0z\" fill=\"none\"/>\n",
              "    <path d=\"M18.56 5.44l.94 2.06.94-2.06 2.06-.94-2.06-.94-.94-2.06-.94 2.06-2.06.94zm-11 1L8.5 8.5l.94-2.06 2.06-.94-2.06-.94L8.5 2.5l-.94 2.06-2.06.94zm10 10l.94 2.06.94-2.06 2.06-.94-2.06-.94-.94-2.06-.94 2.06-2.06.94z\"/><path d=\"M17.41 7.96l-1.37-1.37c-.4-.4-.92-.59-1.43-.59-.52 0-1.04.2-1.43.59L10.3 9.45l-7.72 7.72c-.78.78-.78 2.05 0 2.83L4 21.41c.39.39.9.59 1.41.59.51 0 1.02-.2 1.41-.59l7.78-7.78 2.81-2.81c.8-.78.8-2.07 0-2.86zM5.41 20L4 18.59l7.72-7.72 1.47 1.35L5.41 20z\"/>\n",
              "  </svg>\n",
              "      </button>\n",
              "      \n",
              "  <style>\n",
              "    .colab-df-container {\n",
              "      display:flex;\n",
              "      flex-wrap:wrap;\n",
              "      gap: 12px;\n",
              "    }\n",
              "\n",
              "    .colab-df-convert {\n",
              "      background-color: #E8F0FE;\n",
              "      border: none;\n",
              "      border-radius: 50%;\n",
              "      cursor: pointer;\n",
              "      display: none;\n",
              "      fill: #1967D2;\n",
              "      height: 32px;\n",
              "      padding: 0 0 0 0;\n",
              "      width: 32px;\n",
              "    }\n",
              "\n",
              "    .colab-df-convert:hover {\n",
              "      background-color: #E2EBFA;\n",
              "      box-shadow: 0px 1px 2px rgba(60, 64, 67, 0.3), 0px 1px 3px 1px rgba(60, 64, 67, 0.15);\n",
              "      fill: #174EA6;\n",
              "    }\n",
              "\n",
              "    [theme=dark] .colab-df-convert {\n",
              "      background-color: #3B4455;\n",
              "      fill: #D2E3FC;\n",
              "    }\n",
              "\n",
              "    [theme=dark] .colab-df-convert:hover {\n",
              "      background-color: #434B5C;\n",
              "      box-shadow: 0px 1px 3px 1px rgba(0, 0, 0, 0.15);\n",
              "      filter: drop-shadow(0px 1px 2px rgba(0, 0, 0, 0.3));\n",
              "      fill: #FFFFFF;\n",
              "    }\n",
              "  </style>\n",
              "\n",
              "      <script>\n",
              "        const buttonEl =\n",
              "          document.querySelector('#df-685aa0a7-bf0a-491d-9f0e-c4b68c598448 button.colab-df-convert');\n",
              "        buttonEl.style.display =\n",
              "          google.colab.kernel.accessAllowed ? 'block' : 'none';\n",
              "\n",
              "        async function convertToInteractive(key) {\n",
              "          const element = document.querySelector('#df-685aa0a7-bf0a-491d-9f0e-c4b68c598448');\n",
              "          const dataTable =\n",
              "            await google.colab.kernel.invokeFunction('convertToInteractive',\n",
              "                                                     [key], {});\n",
              "          if (!dataTable) return;\n",
              "\n",
              "          const docLinkHtml = 'Like what you see? Visit the ' +\n",
              "            '<a target=\"_blank\" href=https://colab.research.google.com/notebooks/data_table.ipynb>data table notebook</a>'\n",
              "            + ' to learn more about interactive tables.';\n",
              "          element.innerHTML = '';\n",
              "          dataTable['output_type'] = 'display_data';\n",
              "          await google.colab.output.renderOutput(dataTable, element);\n",
              "          const docLink = document.createElement('div');\n",
              "          docLink.innerHTML = docLinkHtml;\n",
              "          element.appendChild(docLink);\n",
              "        }\n",
              "      </script>\n",
              "    </div>\n",
              "  </div>\n",
              "  "
            ],
            "text/plain": [
              "     Pregnancies   Glucose  ...       Age  Outcome\n",
              "0       0.639530  0.847771  ...  1.425067        1\n",
              "1      -0.844335 -1.122665  ... -0.190548        0\n",
              "2       1.233077  1.942458  ... -0.105515        1\n",
              "3      -0.844335 -0.997558  ... -1.040871        0\n",
              "4      -1.141108  0.503727  ... -0.020483        1\n",
              "..           ...       ...  ...       ...      ...\n",
              "763     1.826623 -0.622237  ...  2.530487        0\n",
              "764    -0.547562  0.034575  ... -0.530677        0\n",
              "765     0.342757  0.003299  ... -0.275580        0\n",
              "766    -0.844335  0.159683  ...  1.169970        1\n",
              "767    -0.844335 -0.872451  ... -0.870806        0\n",
              "\n",
              "[768 rows x 9 columns]"
            ]
          },
          "metadata": {},
          "execution_count": 15
        }
      ]
    },
    {
      "cell_type": "markdown",
      "source": [
        "Question 6: Write a function that split your (x,y) to (x_train, y_train) and (x_test, y_test).\n",
        "`Note:` This function must return an arrays."
      ],
      "metadata": {
        "id": "EaLTFVDPeeQp"
      }
    },
    {
      "cell_type": "code",
      "source": [
        "##### WRITE YOUR CODE HERE #####\n",
        "def split_data(df, train_percent= 0.8):\n",
        "  np.random.seed(2)\n",
        "  perm = np.random.permutation(df.index)\n",
        "\n",
        "  n= len(df)\n",
        "  train_index = int(train_percent * n)\n",
        "\n",
        "  train = df.iloc[perm[:train_index]]\n",
        "  test = df.iloc[perm[train_index:]]\n",
        "\n",
        "  x_train, x_test, y_train, y_test= train.iloc[:, :-1], test.iloc[:, :-1], train.iloc[:, -1], test.iloc[:, -1]\n",
        "  return x_train.values, x_test.values, y_train.values, y_test.values\n",
        "#### END CODE ####"
      ],
      "metadata": {
        "id": "4qE0hOeia1Xx"
      },
      "execution_count": 16,
      "outputs": []
    },
    {
      "cell_type": "code",
      "source": [
        "x_train, x_test, y_train, y_test= split_data(data) \n",
        "x_train.shape, y_train.shape, x_test.shape, y_test.shape"
      ],
      "metadata": {
        "id": "gApO25M7b4_0",
        "colab": {
          "base_uri": "https://localhost:8080/"
        },
        "outputId": "a256e84f-0d35-48cd-b005-0511e4d6795c"
      },
      "execution_count": 17,
      "outputs": [
        {
          "output_type": "execute_result",
          "data": {
            "text/plain": [
              "((614, 8), (614,), (154, 8), (154,))"
            ]
          },
          "metadata": {},
          "execution_count": 17
        }
      ]
    },
    {
      "cell_type": "markdown",
      "source": [
        "# Part 2: Logistic Regression without Regularization.\n",
        "\n",
        "## Recaps:\n",
        "1. Logistic/sigmoid function of $z$:\n",
        "\\begin{equation}\n",
        "g(z)= \\dfrac{1}{1+ exp(-z)}\n",
        "\\end{equation}\n",
        "where $z= x^t \\theta$ and $x, y \\in \\mathbb{R}^d$.\n",
        "2. Derivative of Logistic/sigmoid function with respective to $z$:\n",
        "\\begin{equation}\n",
        "dg(z)= g(z)(1-g(z))\n",
        "\\end{equation}\n",
        "3. Cross-entropy loss:\n",
        "\\begin{equation}\n",
        "l(\\theta)= -\\sum_{i= 1}^{N} \\left(y_{true} \\times \\log y_{pred} + (1-y_{true}) \\times \\log (1-y_{pred}) \\right)\n",
        "\\end{equation}\n",
        "where $y_{true}= g(z)$, $z= x^t \\theta$ and $y_{true}$ is the ground-truth for a given $x$.\n",
        "\n",
        "4. Derivative of Cross-entropy loss with respective to $\\theta$:\n",
        "\\begin{equation}\n",
        "dl(\\theta)= -\\sum_{i= 1}^{N} x^t\\left(y_{true} -y_{ped} \\right)\n",
        "\\end{equation}\n",
        "5. Apply Batch gradient descent to update $\\theta$.\n",
        "\n",
        "Question: Create a class called LogReg. See the description in the below cells.\n"
      ],
      "metadata": {
        "id": "-iHA8LO0dq05"
      }
    },
    {
      "cell_type": "code",
      "source": [
        "class logistic_regression:\n",
        "  def __init__(self, x_test,y_test,num_iters= 100, threshold= 0.5, tolerance= 1e-10, lr= 0.00001):\n",
        "    ##### WRITE YOUR CODE HERE #####\n",
        "    self.num_iters=num_iters\n",
        "    self.threshold=threshold\n",
        "    self.tolerance=tolerance\n",
        "    self.lr=lr\n",
        "    self.theta=None\n",
        "    self.cost_history=[]\n",
        "    self.cost_history_test=[]\n",
        "    self.x_test=x_test\n",
        "    self.y_test=y_test\n",
        "    #### END CODE ####\n",
        "\n",
        "  def add_ones(self, x):\n",
        "    ##### WRITE YOUR CODE HERE #####\n",
        "    x_new= np.hstack([np.ones((x.shape[0],1)),x])\n",
        "    return x_new\n",
        "    #### END CODE ####\n",
        "\n",
        "  def sigmoid(self, x, theta):\n",
        "    ##### WRITE YOUR CODE HERE #####\n",
        "    z= 1/(1+np.exp(-x @ self.theta))\n",
        "    #print('ok ',z)\n",
        "    return z\n",
        "    #### END CODE ####\n",
        "\n",
        "  def cross_entropy(self, x, y_true):\n",
        "    ##### WRITE YOUR CODE HERE #####\n",
        "    n = len(x) # Length of x\n",
        "    #x=self.add_ones(x)\n",
        "    y_pred = self.sigmoid(x,self.theta)\n",
        "    Cost = -np.sum(y_true*np.log(y_pred)+(1-y_true)*np.log(1-y_pred))\n",
        "        \n",
        "    return Cost/n\n",
        "    #### END CODE ####\n",
        "\n",
        "  def fit(self, x,y):\n",
        "    ##### WRITE YOUR CODE HERE #####\n",
        "    x= self.add_ones(x) # Add ones to x\n",
        "    y= y.reshape(-1,1) # reshape y. This is optional, do it if needed\n",
        "    self.theta= np.zeros((x.shape[1],1)) # Initialize theta to zeros vector >>> (x.shape[1])\n",
        "    current_iter= 1\n",
        "    norm= 1\n",
        "\n",
        "    while (norm >= self.tolerance and current_iter < self.num_iters):\n",
        "      theta_old = self.theta.copy() # Get old theta\n",
        "\n",
        "      # make predictions\n",
        "      y_pred= self.sigmoid(x,self.theta) # using sigmoid function \n",
        "\n",
        "      # Gradient of cross-entropy\n",
        "      grad= -x.T@(y-y_pred)\n",
        "      grad= grad.reshape(-1,1) # Reshape, if it is needed\n",
        "\n",
        "      # update rules\n",
        "      self.theta= self.theta-self.lr*grad\n",
        "\n",
        "      x_test=self.add_ones(self.x_test)\n",
        "      y_test=self.y_test.reshape(-1,1)\n",
        "      loss_train=self.cross_entropy(x,y)\n",
        "      loss_test=self.cross_entropy(x_test,y_test)\n",
        "      # Compute the training loss\n",
        "      self.cost_history_test.append(loss_test)\n",
        "      self.cost_history.append(loss_train)\n",
        "\n",
        "      # Convergence criteria:\n",
        "      if current_iter%100 == 0:\n",
        "        print(f'cost for {current_iter} iteration : {self.cross_entropy(x, y)}')\n",
        "      norm = np.linalg.norm(theta_old - self.theta)\n",
        "      current_iter += 1\n",
        "    #### END CODE ####\n",
        "  \n",
        "  def predict(self, x):\n",
        "    proba= self.predict_proba(x) # Get probability of x\n",
        "    result= [1 if proba>=self.threshold else 0 for proba in proba]  # Convert proba to 0 or 1. hint: list comprehension\n",
        "    return  result\n",
        "  \n",
        "    \n",
        "  def predict_proba(self, x):\n",
        "    x= self.add_ones(x) # Apply add ones to x\n",
        "    y_pred_prob= self.sigmoid(x,self.theta) # Predict proba with sigmoid\n",
        "    return y_pred_prob\n",
        "  \n",
        "  def plot(self):\n",
        "    ##### WRITE YOUR CODE HERE #####\n",
        "    plt.plot(self.cost_history)\n",
        "    plt.plot(self.cost_history_test)\n",
        "    plt.xlabel('Epochs')\n",
        "    plt.ylabel('Cost')\n",
        "    # plt.plot(np.arange(len(self.cost_history)),self.cost_history,'r',title='Train cost history')\n",
        "    #### END CODE ####"
      ],
      "metadata": {
        "id": "fcwOt19ygOVu"
      },
      "execution_count": 87,
      "outputs": []
    },
    {
      "cell_type": "code",
      "source": [
        "# Create a model by instanciating the class logistic_regression\n",
        "model = logistic_regression(x_test,y_test,num_iters=10000)"
      ],
      "metadata": {
        "id": "PyAKBcDvgOYg"
      },
      "execution_count": 88,
      "outputs": []
    },
    {
      "cell_type": "code",
      "source": [
        "%%time\n",
        "model.fit(x_train, y_train)"
      ],
      "metadata": {
        "colab": {
          "base_uri": "https://localhost:8080/"
        },
        "id": "NdezNg1egOb9",
        "outputId": "c56b479c-e431-4f16-8eb3-86e558ae8691"
      },
      "execution_count": 89,
      "outputs": [
        {
          "output_type": "stream",
          "name": "stdout",
          "text": [
            "cost for 100 iteration : 0.6362373605032056\n",
            "cost for 200 iteration : 0.5988470249186553\n",
            "cost for 300 iteration : 0.5731266601190665\n",
            "cost for 400 iteration : 0.5546596118987498\n",
            "cost for 500 iteration : 0.5409170138988207\n",
            "cost for 600 iteration : 0.5303898928558933\n",
            "cost for 700 iteration : 0.5221361975391885\n",
            "cost for 800 iteration : 0.5155423018805115\n",
            "cost for 900 iteration : 0.5101931110081553\n",
            "cost for 1000 iteration : 0.5057984298137365\n",
            "cost for 1100 iteration : 0.5021495355459176\n",
            "cost for 1200 iteration : 0.49909259434535147\n",
            "cost for 1300 iteration : 0.49651182432058544\n",
            "cost for 1400 iteration : 0.49431849661589616\n",
            "cost for 1500 iteration : 0.4924435467133995\n",
            "cost for 1600 iteration : 0.4908324847043871\n",
            "cost for 1700 iteration : 0.489441809331206\n",
            "cost for 1800 iteration : 0.4882364300560567\n",
            "cost for 1900 iteration : 0.4871877801040583\n",
            "cost for 2000 iteration : 0.48627241286696055\n",
            "cost for 2100 iteration : 0.485470942723045\n",
            "cost for 2200 iteration : 0.4847672353998577\n",
            "cost for 2300 iteration : 0.4841477818920112\n",
            "cost for 2400 iteration : 0.4836012092532888\n",
            "cost for 2500 iteration : 0.4831178947242058\n",
            "cost for 2600 iteration : 0.4826896587540938\n",
            "cost for 2700 iteration : 0.4823095188744711\n",
            "cost for 2800 iteration : 0.4819714909448642\n",
            "cost for 2900 iteration : 0.48167042759244216\n",
            "cost for 3000 iteration : 0.48140188608246187\n",
            "cost for 3100 iteration : 0.4811620196448118\n",
            "cost for 3200 iteration : 0.4809474876196708\n",
            "cost for 3300 iteration : 0.4807553807956448\n",
            "cost for 3400 iteration : 0.48058315908359994\n",
            "cost for 3500 iteration : 0.480428599260872\n",
            "cost for 3600 iteration : 0.48028975097836424\n",
            "cost for 3700 iteration : 0.48016489957997954\n",
            "cost for 3800 iteration : 0.48005253456392233\n",
            "cost for 3900 iteration : 0.4799513227365528\n",
            "cost for 4000 iteration : 0.47986008528510443\n",
            "cost for 4100 iteration : 0.479777778135803\n",
            "cost for 4200 iteration : 0.4797034750764696\n",
            "cost for 4300 iteration : 0.4796363532134561\n",
            "cost for 4400 iteration : 0.47957568040629617\n",
            "cost for 4500 iteration : 0.4795208043833043\n",
            "cost for 4600 iteration : 0.4794711432902505\n",
            "cost for 4700 iteration : 0.47942617746437177\n",
            "cost for 4800 iteration : 0.47938544225902224\n",
            "cost for 4900 iteration : 0.4793485217715861\n",
            "cost for 5000 iteration : 0.47931504334994046\n",
            "cost for 5100 iteration : 0.4792846727716249\n",
            "cost for 5200 iteration : 0.4792571100056271\n",
            "cost for 5300 iteration : 0.4792320854798967\n",
            "cost for 5400 iteration : 0.47920935678879667\n",
            "cost for 5500 iteration : 0.47918870578404477\n",
            "cost for 5600 iteration : 0.4791699360006103\n",
            "cost for 5700 iteration : 0.4791528703757207\n",
            "cost for 5800 iteration : 0.4791373492248335\n",
            "cost for 5900 iteration : 0.4791232284432731\n",
            "cost for 6000 iteration : 0.47911037790637934\n",
            "cost for 6100 iteration : 0.4790986800445573\n",
            "cost for 6200 iteration : 0.4790880285726645\n",
            "cost for 6300 iteration : 0.4790783273557897\n",
            "cost for 6400 iteration : 0.47906948939572974\n",
            "cost for 6500 iteration : 0.4790614359244259\n",
            "cost for 6600 iteration : 0.479054095592303\n",
            "cost for 6700 iteration : 0.47904740374091986\n",
            "cost for 6800 iteration : 0.47904130175061016\n",
            "cost for 6900 iteration : 0.47903573645489733\n",
            "cost for 7000 iteration : 0.47903065961443636\n",
            "cost for 7100 iteration : 0.479026027444071\n",
            "cost for 7200 iteration : 0.4790218001873391\n",
            "cost for 7300 iteration : 0.4790179417333983\n",
            "cost for 7400 iteration : 0.4790144192719181\n",
            "cost for 7500 iteration : 0.47901120298197564\n",
            "cost for 7600 iteration : 0.4790082657514358\n",
            "cost for 7700 iteration : 0.4790055829236825\n",
            "cost for 7800 iteration : 0.4790031320689062\n",
            "cost for 7900 iteration : 0.4790008927774589\n",
            "cost for 8000 iteration : 0.47899884647304913\n",
            "cost for 8100 iteration : 0.47899697624379295\n",
            "cost for 8200 iteration : 0.47899526668933834\n",
            "cost for 8300 iteration : 0.4789937037824757\n",
            "cost for 8400 iteration : 0.47899227474380257\n",
            "cost for 8500 iteration : 0.47899096792816964\n",
            "cost for 8600 iteration : 0.4789897727217549\n",
            "cost for 8700 iteration : 0.47898867944873735\n",
            "cost for 8800 iteration : 0.4789876792866441\n",
            "cost for 8900 iteration : 0.47898676418953695\n",
            "cost for 9000 iteration : 0.47898592681828867\n",
            "cost for 9100 iteration : 0.4789851604772743\n",
            "cost for 9200 iteration : 0.47898445905686776\n",
            "cost for 9300 iteration : 0.4789838169811986\n",
            "cost for 9400 iteration : 0.47898322916066965\n",
            "cost for 9500 iteration : 0.47898269094879325\n",
            "cost for 9600 iteration : 0.4789821981029402\n",
            "cost for 9700 iteration : 0.4789817467486381\n",
            "cost for 9800 iteration : 0.47898133334709037\n",
            "cost for 9900 iteration : 0.4789809546656182\n",
            "CPU times: user 2.02 s, sys: 19.3 ms, total: 2.04 s\n",
            "Wall time: 2.05 s\n"
          ]
        }
      ]
    },
    {
      "cell_type": "code",
      "source": [
        "predict=model.predict_proba(x_test)"
      ],
      "metadata": {
        "id": "OvI1XF0Wju9H"
      },
      "execution_count": 90,
      "outputs": []
    },
    {
      "cell_type": "code",
      "source": [
        "\n",
        "model.predict(x_test)"
      ],
      "metadata": {
        "colab": {
          "base_uri": "https://localhost:8080/"
        },
        "id": "3izqcnB6Tm4R",
        "outputId": "f8121cd0-294c-45f8-d7bf-bb7c9a083bcc"
      },
      "execution_count": 91,
      "outputs": [
        {
          "output_type": "execute_result",
          "data": {
            "text/plain": [
              "[0,\n",
              " 0,\n",
              " 0,\n",
              " 0,\n",
              " 1,\n",
              " 1,\n",
              " 0,\n",
              " 0,\n",
              " 0,\n",
              " 0,\n",
              " 0,\n",
              " 0,\n",
              " 1,\n",
              " 0,\n",
              " 1,\n",
              " 0,\n",
              " 0,\n",
              " 0,\n",
              " 0,\n",
              " 0,\n",
              " 0,\n",
              " 0,\n",
              " 0,\n",
              " 0,\n",
              " 0,\n",
              " 1,\n",
              " 0,\n",
              " 0,\n",
              " 0,\n",
              " 0,\n",
              " 0,\n",
              " 1,\n",
              " 0,\n",
              " 0,\n",
              " 0,\n",
              " 0,\n",
              " 1,\n",
              " 0,\n",
              " 0,\n",
              " 1,\n",
              " 0,\n",
              " 0,\n",
              " 1,\n",
              " 1,\n",
              " 0,\n",
              " 0,\n",
              " 0,\n",
              " 1,\n",
              " 0,\n",
              " 0,\n",
              " 0,\n",
              " 1,\n",
              " 1,\n",
              " 0,\n",
              " 0,\n",
              " 0,\n",
              " 0,\n",
              " 1,\n",
              " 0,\n",
              " 1,\n",
              " 1,\n",
              " 0,\n",
              " 0,\n",
              " 0,\n",
              " 0,\n",
              " 0,\n",
              " 0,\n",
              " 0,\n",
              " 0,\n",
              " 1,\n",
              " 1,\n",
              " 1,\n",
              " 0,\n",
              " 0,\n",
              " 0,\n",
              " 0,\n",
              " 1,\n",
              " 1,\n",
              " 0,\n",
              " 1,\n",
              " 1,\n",
              " 0,\n",
              " 0,\n",
              " 0,\n",
              " 0,\n",
              " 1,\n",
              " 1,\n",
              " 0,\n",
              " 0,\n",
              " 0,\n",
              " 0,\n",
              " 0,\n",
              " 0,\n",
              " 0,\n",
              " 0,\n",
              " 0,\n",
              " 1,\n",
              " 0,\n",
              " 0,\n",
              " 1,\n",
              " 0,\n",
              " 1,\n",
              " 0,\n",
              " 0,\n",
              " 0,\n",
              " 1,\n",
              " 1,\n",
              " 1,\n",
              " 1,\n",
              " 0,\n",
              " 1,\n",
              " 0,\n",
              " 0,\n",
              " 0,\n",
              " 1,\n",
              " 0,\n",
              " 1,\n",
              " 0,\n",
              " 0,\n",
              " 0,\n",
              " 1,\n",
              " 1,\n",
              " 0,\n",
              " 1,\n",
              " 0,\n",
              " 0,\n",
              " 1,\n",
              " 0,\n",
              " 1,\n",
              " 0,\n",
              " 0,\n",
              " 1,\n",
              " 0,\n",
              " 0,\n",
              " 0,\n",
              " 1,\n",
              " 0,\n",
              " 0,\n",
              " 0,\n",
              " 0,\n",
              " 0,\n",
              " 0,\n",
              " 0,\n",
              " 0,\n",
              " 1,\n",
              " 1,\n",
              " 0,\n",
              " 0,\n",
              " 0,\n",
              " 0,\n",
              " 0,\n",
              " 0,\n",
              " 0,\n",
              " 0]"
            ]
          },
          "metadata": {},
          "execution_count": 91
        }
      ]
    },
    {
      "cell_type": "code",
      "source": [
        "# Predict Proba\n",
        "print(model.predict_proba(x_test))"
      ],
      "metadata": {
        "id": "8PozH_SWVTI5",
        "colab": {
          "base_uri": "https://localhost:8080/"
        },
        "outputId": "419c5257-901a-4830-c63d-38ce12949210"
      },
      "execution_count": 92,
      "outputs": [
        {
          "output_type": "stream",
          "name": "stdout",
          "text": [
            "[[0.06210586]\n",
            " [0.14364377]\n",
            " [0.16770222]\n",
            " [0.05650174]\n",
            " [0.68656065]\n",
            " [0.59076509]\n",
            " [0.24012263]\n",
            " [0.24246128]\n",
            " [0.03851855]\n",
            " [0.18856269]\n",
            " [0.04469256]\n",
            " [0.30989096]\n",
            " [0.65439573]\n",
            " [0.01783022]\n",
            " [0.64128353]\n",
            " [0.05287349]\n",
            " [0.37171845]\n",
            " [0.49402452]\n",
            " [0.34157476]\n",
            " [0.07367799]\n",
            " [0.27098975]\n",
            " [0.47520874]\n",
            " [0.43470781]\n",
            " [0.19201274]\n",
            " [0.25107204]\n",
            " [0.80399911]\n",
            " [0.11154537]\n",
            " [0.42468859]\n",
            " [0.41339111]\n",
            " [0.20699733]\n",
            " [0.03079305]\n",
            " [0.92109875]\n",
            " [0.07051087]\n",
            " [0.40547635]\n",
            " [0.0706279 ]\n",
            " [0.46364923]\n",
            " [0.72785565]\n",
            " [0.44583033]\n",
            " [0.11584432]\n",
            " [0.95472992]\n",
            " [0.09357848]\n",
            " [0.26586027]\n",
            " [0.83752884]\n",
            " [0.91432588]\n",
            " [0.20872458]\n",
            " [0.07892069]\n",
            " [0.23722288]\n",
            " [0.71757027]\n",
            " [0.41117814]\n",
            " [0.35725064]\n",
            " [0.25489478]\n",
            " [0.6770494 ]\n",
            " [0.73545401]\n",
            " [0.02286175]\n",
            " [0.42273457]\n",
            " [0.18641959]\n",
            " [0.30398955]\n",
            " [0.77635499]\n",
            " [0.14298554]\n",
            " [0.91329682]\n",
            " [0.9493788 ]\n",
            " [0.38778166]\n",
            " [0.1288314 ]\n",
            " [0.06987579]\n",
            " [0.16924073]\n",
            " [0.08350501]\n",
            " [0.06107061]\n",
            " [0.05464084]\n",
            " [0.38977257]\n",
            " [0.54233723]\n",
            " [0.59466512]\n",
            " [0.50716107]\n",
            " [0.0057089 ]\n",
            " [0.01645816]\n",
            " [0.17878399]\n",
            " [0.08759775]\n",
            " [0.92683687]\n",
            " [0.84608971]\n",
            " [0.23778619]\n",
            " [0.807215  ]\n",
            " [0.50708164]\n",
            " [0.07417727]\n",
            " [0.03809648]\n",
            " [0.40855092]\n",
            " [0.26874097]\n",
            " [0.82785872]\n",
            " [0.78364006]\n",
            " [0.26758467]\n",
            " [0.17830183]\n",
            " [0.08746688]\n",
            " [0.05282977]\n",
            " [0.07719086]\n",
            " [0.15334738]\n",
            " [0.25063681]\n",
            " [0.10969702]\n",
            " [0.04808887]\n",
            " [0.85055338]\n",
            " [0.39159881]\n",
            " [0.07686944]\n",
            " [0.71957413]\n",
            " [0.0704679 ]\n",
            " [0.66710042]\n",
            " [0.1555994 ]\n",
            " [0.10558092]\n",
            " [0.42000575]\n",
            " [0.84669845]\n",
            " [0.71723246]\n",
            " [0.77237007]\n",
            " [0.61902639]\n",
            " [0.03480759]\n",
            " [0.75038092]\n",
            " [0.09422312]\n",
            " [0.4437092 ]\n",
            " [0.02396063]\n",
            " [0.50095632]\n",
            " [0.26632717]\n",
            " [0.55371803]\n",
            " [0.32050957]\n",
            " [0.21661044]\n",
            " [0.09904607]\n",
            " [0.7486117 ]\n",
            " [0.73532231]\n",
            " [0.21639221]\n",
            " [0.6824261 ]\n",
            " [0.21065668]\n",
            " [0.09384184]\n",
            " [0.79950157]\n",
            " [0.10423545]\n",
            " [0.82405656]\n",
            " [0.0852407 ]\n",
            " [0.06411228]\n",
            " [0.62875137]\n",
            " [0.0593568 ]\n",
            " [0.41692587]\n",
            " [0.14598358]\n",
            " [0.71453825]\n",
            " [0.22276809]\n",
            " [0.43452605]\n",
            " [0.04171245]\n",
            " [0.36126336]\n",
            " [0.10791812]\n",
            " [0.03488952]\n",
            " [0.20114197]\n",
            " [0.42441523]\n",
            " [0.544228  ]\n",
            " [0.7288187 ]\n",
            " [0.00258419]\n",
            " [0.0339925 ]\n",
            " [0.34934505]\n",
            " [0.13329025]\n",
            " [0.25053939]\n",
            " [0.42087129]\n",
            " [0.09105574]\n",
            " [0.23342688]]\n"
          ]
        }
      ]
    },
    {
      "cell_type": "code",
      "source": [
        "model.plot()"
      ],
      "metadata": {
        "colab": {
          "base_uri": "https://localhost:8080/",
          "height": 280
        },
        "id": "iKjM9LqgLFxp",
        "outputId": "12cde7a7-1973-4c03-f670-19210ee940b1"
      },
      "execution_count": 93,
      "outputs": [
        {
          "output_type": "display_data",
          "data": {
            "image/png": "[encoded data removed]",
            "text/plain": [
              "<Figure size 432x288 with 1 Axes>"
            ]
          },
          "metadata": {
            "needs_background": "light"
          }
        }
      ]
    },
    {
      "cell_type": "markdown",
      "source": [
        "## Push your works to Githup Repo\n",
        "\n",
        "Setps:\n",
        "1. Fork the repo: `https://github.com/AMMI-2022/test-live-coding`\n",
        "2. Clone in your colab;\n",
        "3. Push\n",
        "4. Make a pull request"
      ],
      "metadata": {
        "id": "7pyf_N6pOCK5"
      }
    },
    {
      "cell_type": "markdown",
      "source": [
        "Set your credential"
      ],
      "metadata": {
        "id": "2S-a49qmeUGp"
      }
    },
    {
      "cell_type": "code",
      "source": [
        "my_token= \"\"\n",
        "my_repository= \"\"\n",
        "username= \"\"\n",
        "useremail= \"\""
      ],
      "metadata": {
        "id": "ECo9DTv9PfNU"
      },
      "execution_count": null,
      "outputs": []
    },
    {
      "cell_type": "markdown",
      "source": [
        "Clone the repo"
      ],
      "metadata": {
        "id": "pTUr6f9JeWiG"
      }
    },
    {
      "cell_type": "code",
      "source": [
        "! git clone https://github.com/{username}/{my_repository}.git"
      ],
      "metadata": {
        "id": "EQhDd_U_PfRm"
      },
      "execution_count": null,
      "outputs": []
    },
    {
      "cell_type": "code",
      "source": [
        "! git remote -v"
      ],
      "metadata": {
        "id": "Uv69w1Bfe0i3"
      },
      "execution_count": null,
      "outputs": []
    },
    {
      "cell_type": "markdown",
      "source": [
        "Copy data to test-live-coding folder"
      ],
      "metadata": {
        "id": "Kse_ZT1henjR"
      }
    },
    {
      "cell_type": "code",
      "source": [
        "!cp diabetes.csv /content/test-live-coding"
      ],
      "metadata": {
        "id": "AS207mQ3PfTp"
      },
      "execution_count": null,
      "outputs": []
    },
    {
      "cell_type": "code",
      "source": [
        "%cd /content/test-live-coding"
      ],
      "metadata": {
        "id": "ua0-f8gFPfXu"
      },
      "execution_count": null,
      "outputs": []
    },
    {
      "cell_type": "code",
      "source": [
        "!git status"
      ],
      "metadata": {
        "id": "S0SNgpwZPfsk"
      },
      "execution_count": null,
      "outputs": []
    },
    {
      "cell_type": "code",
      "source": [
        "!git config user.email useremail\n",
        "!git config user.name username"
      ],
      "metadata": {
        "id": "331HWnMJeuSN"
      },
      "execution_count": null,
      "outputs": []
    },
    {
      "cell_type": "code",
      "source": [
        "!git add .\n",
        "!git commit -m \"Add my files\""
      ],
      "metadata": {
        "id": "XIkRAG99fUGf"
      },
      "execution_count": null,
      "outputs": []
    },
    {
      "cell_type": "code",
      "source": [
        "!git status"
      ],
      "metadata": {
        "id": "kK8TdaCifXJ-"
      },
      "execution_count": null,
      "outputs": []
    },
    {
      "cell_type": "code",
      "source": [
        "!git push -u origin master --force"
      ],
      "metadata": {
        "id": "gObs-0HjeuV8"
      },
      "execution_count": null,
      "outputs": []
    },
    {
      "cell_type": "markdown",
      "source": [
        "# If you cannot push, use:"
      ],
      "metadata": {
        "id": "niOB3_vIe5n7"
      }
    },
    {
      "cell_type": "code",
      "source": [
        "!git remote rm origin"
      ],
      "metadata": {
        "id": "XCRZgbm8e_1f"
      },
      "execution_count": null,
      "outputs": []
    },
    {
      "cell_type": "code",
      "source": [
        "!git remote add origin https://{my_token}@github.com/{username}/{my_repository}.git\n",
        "!git remote -v"
      ],
      "metadata": {
        "id": "61psHyK3fCRM"
      },
      "execution_count": null,
      "outputs": []
    },
    {
      "cell_type": "code",
      "source": [
        "!git push -u origin master --force"
      ],
      "metadata": {
        "id": "c0sQOc7ffCYP"
      },
      "execution_count": null,
      "outputs": []
    },
    {
      "cell_type": "markdown",
      "source": [
        "---\n",
        "\n",
        "\n",
        "\n",
        "---\n",
        "\n",
        "\n",
        "\n",
        "---"
      ],
      "metadata": {
        "id": "C0hWgk1XMjl-"
      }
    },
    {
      "cell_type": "markdown",
      "source": [
        "# Assignment\n",
        "\n",
        "Just follow the class logistic_regression, try to implement Logistic regression with `l1`, `l2` and `l1-l2`. That we call respectively `Lasso (least absolute shrinkage and selection operator)`, `Ridge` and `ElasticNet`.\n",
        "Given cross-entropy:\n",
        "\\begin{equation}\n",
        "  l(θ)= -\\sum_{i= 1}^{N} \\left(y_{true} \\times \\log y_{pred} + (1-y_{true}) \\times \\log (1-y_{pred}) \\right)\n",
        "\\end{equation}\n",
        "\n",
        "1. l1-regularization (LASSO):\n",
        "\n",
        "\\begin{equation}\n",
        "   l(θ) + λ\\| \\theta\\|_1\n",
        "\\end{equation}\n",
        "\n",
        "\n",
        "2. l2-regularization (Ridge):\n",
        "\\begin{equation}\n",
        "   l(θ)+ λ\\| \\theta\\|_2\n",
        "\\end{equation}\n",
        "\n",
        "3. l1-l2-regularization (ElasticNet):\n",
        "\\begin{equation}\n",
        "  l(θ) + λ_1\\| \\theta\\|_1 + λ_2\\| \\theta\\|_2\n",
        "\\end{equation}\n",
        "\n",
        "`Note: please use mini-batch as learning algorithm`"
      ],
      "metadata": {
        "id": "9WIvYaFRTEOo"
      }
    },
    {
      "cell_type": "code",
      "source": [
        "class logistic_regression_l1:\n",
        "  pass"
      ],
      "metadata": {
        "id": "oru7W5P6FNyh"
      },
      "execution_count": null,
      "outputs": []
    },
    {
      "cell_type": "code",
      "source": [
        "class logistic_regression_l2:\n",
        "  pass"
      ],
      "metadata": {
        "id": "Q4MuLTNNT5qE"
      },
      "execution_count": null,
      "outputs": []
    },
    {
      "cell_type": "code",
      "source": [
        "class logistic_regression_l1_l2:\n",
        "  pass"
      ],
      "metadata": {
        "id": "vnHpkvRIT71Z"
      },
      "execution_count": null,
      "outputs": []
    },
    {
      "cell_type": "markdown",
      "source": [
        "# Concepts [Assignment]:\n",
        "1. Why there is no close form for cross-entropy loss?\n",
        "2. Why we need cross-entropy loss instead of mse?\n",
        "3. Why is logistic regression a type of classification technique and not a regression?"
      ],
      "metadata": {
        "id": "jqSi--hEpa9N"
      }
    },
    {
      "cell_type": "code",
      "source": [
        ""
      ],
      "metadata": {
        "id": "3IPn0NYZrUdP"
      },
      "execution_count": null,
      "outputs": []
    }
  ]
}