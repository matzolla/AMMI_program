{
  "cells": [
    {
      "cell_type": "markdown",
      "metadata": {
        "id": "mCt-frpFH8oN"
      },
      "source": [
        "The tutorials use PyTorch. You will need to load the following dependencies."
      ]
    },
    {
      "cell_type": "code",
      "execution_count": null,
      "metadata": {
        "id": "CnASsVVwhXmg"
      },
      "outputs": [],
      "source": [
        "# This specific version of torchvision is needed to download the mnist set\n",
        "!pip3 install torch torchvision"
      ]
    },
    {
      "cell_type": "code",
      "execution_count": null,
      "metadata": {
        "id": "hqnl0AKVXIA4"
      },
      "outputs": [],
      "source": [
        "import random\n",
        "\n",
        "import imageio\n",
        "import matplotlib.pyplot as plt\n",
        "import numpy as np\n",
        "import PIL\n",
        "import skimage.transform\n",
        "import torch\n",
        "import torch.nn as nn\n",
        "import torch.utils.data\n",
        "import torchvision\n",
        "from IPython import display\n",
        "from torchvision import datasets, transforms"
      ]
    },
    {
      "cell_type": "markdown",
      "metadata": {
        "id": "mF-MRYSYhXmi"
      },
      "source": [
        "# Batch Normalization"
      ]
    },
    {
      "cell_type": "markdown",
      "metadata": {
        "id": "CKeYuM-cIXxs"
      },
      "source": [
        "The code below may be helpful in visualizing PyTorch tensors as images."
      ]
    },
    {
      "cell_type": "code",
      "execution_count": null,
      "metadata": {
        "id": "ZZd_rI8edYIB"
      },
      "outputs": [],
      "source": [
        "%matplotlib inline\n",
        "\n",
        "\n",
        "def show(img):\n",
        "    \"\"\"Show PyTorch tensor img as an image in matplotlib.\"\"\"\n",
        "    npimg = img.cpu().detach().numpy()\n",
        "    plt.imshow(np.transpose(npimg, (1, 2, 0)), interpolation=\"nearest\")\n",
        "    plt.grid(False)\n",
        "    plt.gca().axis(\"off\")\n",
        "\n",
        "\n",
        "def display_thumb(img):\n",
        "    display.display(transforms.Resize(128)(img))"
      ]
    },
    {
      "cell_type": "code",
      "execution_count": null,
      "metadata": {
        "id": "dzfEE578uSNp"
      },
      "outputs": [],
      "source": [
        "device = \"cuda\" if torch.cuda.is_available() else \"cpu\""
      ]
    },
    {
      "cell_type": "markdown",
      "metadata": {
        "id": "zgE0byUgKwM6"
      },
      "source": [
        "Load MNIST and define train/test functions as before. Please make sure you read the code carefully and understand what it is doing."
      ]
    },
    {
      "cell_type": "code",
      "execution_count": null,
      "metadata": {
        "id": "-NMUce6PKu-o",
        "colab": {
          "base_uri": "https://localhost:8080/",
          "height": 417,
          "referenced_widgets": [
            "a2fb341843f94db0927cf7e089980238",
            "20ae9308def6467293528375298dea0c",
            "7c0dd21a079b46c4ba6c5907ebc0a13b",
            "a0209cfcc858443aba09380229c13db8",
            "61f502c1a9464d279d0e02c7b4ff99bd",
            "77f84c3cc89441a2933786d68712f336",
            "35a3a3864fa6491eaa0445efb47887e4",
            "0882ad83921e444db730c20e1cea889e",
            "bc1700d683b743d5a0f10466483eb8ad",
            "d0422f29a3384835ba286e1fea39fe32",
            "4ba6c404e5934eb8b8a880677295a818",
            "fa7f9127976649639f61303bb83f9517",
            "46f88b047b8542c8ac15f14f0a3eb228",
            "9d9f8e4d2e644f6eb37224d2f3d7b1b5",
            "3a4e2f06d7ef4023a805b477d6a35dbe",
            "05f61d2685ac4090a85292079bed7032",
            "f0652bb1e2614016b47c5e5be226813d",
            "7afe0ec325344878984d300c88554a5d",
            "9fa0a389230c48f4a146fb623fb2ce67",
            "a69f2b05e74d481aa35cac212dc5ecec",
            "63a9248cd8984bd58ccf113b01fcb492",
            "a53568d684bf46ccb8aec66076b0d62e",
            "13cdf2ec7e164e6ba5fd58a003b19880",
            "ded050bbfa864a359e6c41f961f17a24",
            "8b8bc5b911fb455e8a318b2aa5ea07e0",
            "a60325f71d814d74911409ee66e21170",
            "dceeacf3e2894cec81261053283b4d1f",
            "85e2ae26274d46ec87f3956a994ba49f",
            "38047e164cfb479ab76f186c80484394",
            "4688dcfb3d2f46a0b26c2c6a40ca0ffc",
            "0599383e290c48a6ab538b03fe7145fe",
            "14f876eb86094c1e94b5ad1ae6b0c56f",
            "1fd9d3ca6fa74ad3b3e06b227b21c59c",
            "75ccce298f404631b2fd62bee5c60718",
            "32517f4cdfc44e9eaff17072ef1e94b2",
            "1b15f16aaa6241d0abfa2415ff01fdd7",
            "a6749cf1082946b4b91b4f8312b9e6c3",
            "6e423cfa4e0e4bbf91c558052ac2d360",
            "9815578d81eb4dbcaa940bf0616e7858",
            "7bbb6e04688e49849878d4c256543e5b",
            "e305289c51d8446ea2cfba6141a91b16",
            "6155f251a40b48c294e2a570d5c018a3",
            "80afdb7f3dd34f409ff74af7e0beb992",
            "431bea6aa2684f95b972f4866677dfb2"
          ]
        },
        "outputId": "20f78ae8-aee2-4bf7-cb7e-a792f2b0abc9"
      },
      "outputs": [
        {
          "output_type": "stream",
          "name": "stdout",
          "text": [
            "Downloading http://yann.lecun.com/exdb/mnist/train-images-idx3-ubyte.gz\n",
            "Downloading http://yann.lecun.com/exdb/mnist/train-images-idx3-ubyte.gz to /tmp/mnist/MNIST/raw/train-images-idx3-ubyte.gz\n"
          ]
        },
        {
          "output_type": "display_data",
          "data": {
            "text/plain": [
              "  0%|          | 0/9912422 [00:00<?, ?it/s]"
            ],
            "application/vnd.jupyter.widget-view+json": {
              "version_major": 2,
              "version_minor": 0,
              "model_id": "a2fb341843f94db0927cf7e089980238"
            }
          },
          "metadata": {}
        },
        {
          "output_type": "stream",
          "name": "stdout",
          "text": [
            "Extracting /tmp/mnist/MNIST/raw/train-images-idx3-ubyte.gz to /tmp/mnist/MNIST/raw\n",
            "\n",
            "Downloading http://yann.lecun.com/exdb/mnist/train-labels-idx1-ubyte.gz\n",
            "Downloading http://yann.lecun.com/exdb/mnist/train-labels-idx1-ubyte.gz to /tmp/mnist/MNIST/raw/train-labels-idx1-ubyte.gz\n"
          ]
        },
        {
          "output_type": "display_data",
          "data": {
            "text/plain": [
              "  0%|          | 0/28881 [00:00<?, ?it/s]"
            ],
            "application/vnd.jupyter.widget-view+json": {
              "version_major": 2,
              "version_minor": 0,
              "model_id": "fa7f9127976649639f61303bb83f9517"
            }
          },
          "metadata": {}
        },
        {
          "output_type": "stream",
          "name": "stdout",
          "text": [
            "Extracting /tmp/mnist/MNIST/raw/train-labels-idx1-ubyte.gz to /tmp/mnist/MNIST/raw\n",
            "\n",
            "Downloading http://yann.lecun.com/exdb/mnist/t10k-images-idx3-ubyte.gz\n",
            "Downloading http://yann.lecun.com/exdb/mnist/t10k-images-idx3-ubyte.gz to /tmp/mnist/MNIST/raw/t10k-images-idx3-ubyte.gz\n"
          ]
        },
        {
          "output_type": "display_data",
          "data": {
            "text/plain": [
              "  0%|          | 0/1648877 [00:00<?, ?it/s]"
            ],
            "application/vnd.jupyter.widget-view+json": {
              "version_major": 2,
              "version_minor": 0,
              "model_id": "13cdf2ec7e164e6ba5fd58a003b19880"
            }
          },
          "metadata": {}
        },
        {
          "output_type": "stream",
          "name": "stdout",
          "text": [
            "Extracting /tmp/mnist/MNIST/raw/t10k-images-idx3-ubyte.gz to /tmp/mnist/MNIST/raw\n",
            "\n",
            "Downloading http://yann.lecun.com/exdb/mnist/t10k-labels-idx1-ubyte.gz\n",
            "Downloading http://yann.lecun.com/exdb/mnist/t10k-labels-idx1-ubyte.gz to /tmp/mnist/MNIST/raw/t10k-labels-idx1-ubyte.gz\n"
          ]
        },
        {
          "output_type": "display_data",
          "data": {
            "text/plain": [
              "  0%|          | 0/4542 [00:00<?, ?it/s]"
            ],
            "application/vnd.jupyter.widget-view+json": {
              "version_major": 2,
              "version_minor": 0,
              "model_id": "75ccce298f404631b2fd62bee5c60718"
            }
          },
          "metadata": {}
        },
        {
          "output_type": "stream",
          "name": "stdout",
          "text": [
            "Extracting /tmp/mnist/MNIST/raw/t10k-labels-idx1-ubyte.gz to /tmp/mnist/MNIST/raw\n",
            "\n"
          ]
        }
      ],
      "source": [
        "# Load the training and test dataset.\n",
        "mnist_train = datasets.MNIST(\n",
        "    \"/tmp/mnist\", train=True, download=True, transform=transforms.ToTensor()\n",
        ")\n",
        "mnist_test = datasets.MNIST(\n",
        "    \"/tmp/mnist\", train=False, download=True, transform=transforms.ToTensor()\n",
        ")\n",
        "\n",
        "# Size of the batches the data loader will produce.\n",
        "batch_size = 64\n",
        "\n",
        "# This creates the dataloaders.\n",
        "train_loader = torch.utils.data.DataLoader(\n",
        "    mnist_train, batch_size=batch_size, shuffle=True\n",
        ")\n",
        "test_loader = torch.utils.data.DataLoader(\n",
        "    mnist_test, batch_size=batch_size, shuffle=False\n",
        ")"
      ]
    },
    {
      "cell_type": "code",
      "execution_count": null,
      "metadata": {
        "id": "TgAJ94UgK1VU"
      },
      "outputs": [],
      "source": [
        "\n",
        "def train(model, criterion, data_loader, optimizer, num_epochs):\n",
        "    \"\"\"Simple training loop for a PyTorch model.\"\"\"\n",
        "\n",
        "    # Make sure model is in training mode.\n",
        "    model.train()\n",
        "\n",
        "    # Move model to the device (CPU or GPU).\n",
        "    model.to(device)\n",
        "\n",
        "    # Exponential moving average of the loss.\n",
        "    ema_loss = None\n",
        "\n",
        "    # Loop over epochs.\n",
        "    for epoch in range(num_epochs):\n",
        "\n",
        "        # Loop over data.\n",
        "        for batch_idx, (data, target) in enumerate(data_loader):\n",
        "\n",
        "            # Forward pass.\n",
        "            output = model(data.to(device))\n",
        "            loss = criterion(output.to(device), target.to(device))\n",
        "\n",
        "            # Backward pass.\n",
        "            optimizer.zero_grad()\n",
        "            loss.backward()\n",
        "            optimizer.step()\n",
        "\n",
        "            # NOTE: It is important to call .item() on the loss before summing.\n",
        "            if ema_loss is None:\n",
        "                ema_loss = loss.item()\n",
        "            else:\n",
        "                ema_loss += (loss.item() - ema_loss) * 0.01\n",
        "\n",
        "        # Print out progress the end of epoch.\n",
        "        print(\n",
        "            \"Train Epoch: {} \\tLoss: {:.6f}\".format(epoch, ema_loss),\n",
        "        )\n",
        "\n",
        "\n",
        "def test(model, data_loader):\n",
        "    \"\"\"Measures the accuracy of a model on a data set.\"\"\"\n",
        "    # Make sure the model is in evaluation mode.\n",
        "    model.eval()\n",
        "    correct = 0\n",
        "\n",
        "    # We do not need to maintain intermediate activations while testing.\n",
        "    with torch.no_grad():\n",
        "\n",
        "        # Loop over test data.\n",
        "        for data, target in data_loader:\n",
        "\n",
        "            # Forward pass.\n",
        "            output = model(data.to(device))\n",
        "\n",
        "            # Get the label corresponding to the highest predicted probability.\n",
        "            pred = output.argmax(dim=1, keepdim=True)\n",
        "\n",
        "            # Count number of correct predictions.\n",
        "            correct += pred.cpu().eq(target.view_as(pred)).sum().item()\n",
        "\n",
        "    # Print test accuracy.\n",
        "    percent = 100.0 * correct / len(data_loader.dataset)\n",
        "    print(f\"Accuracy: {correct} / {len(data_loader.dataset)} ({percent:.0f}%)\")\n",
        "    return percent"
      ]
    },
    {
      "cell_type": "markdown",
      "metadata": {
        "id": "WDEsHihohXml"
      },
      "source": [
        "In the last tutorial, you implemented a naive convolution. In this section you will implement your own version of forward pass of nn.Conv2d without using any of PyTorch's (or numpy's) pre-defined convolutional functions."
      ]
    },
    {
      "cell_type": "code",
      "execution_count": null,
      "metadata": {
        "id": "4FsBADLEhXml"
      },
      "outputs": [],
      "source": [
        "def conv_forward_naive(x, w, b, conv_param):\n",
        "    \"\"\"\n",
        "    A naive Python implementation of a convolutional layer.\n",
        "    The input consists of N data points, each with C channels, height H and\n",
        "    width W. We convolve each input with F different filters, where each filter\n",
        "    spans all C channels and has height HH and width WW.\n",
        "    Input:\n",
        "    - x: Input data of shape (N, C, H, W)\n",
        "    - w: Filter weights of shape (F, C, HH, WW)\n",
        "    - b: Biases, of shape (F,)\n",
        "    - conv_param: A dictionary with the following keys:\n",
        "      - 'stride': The number of pixels between adjacent receptive fields in the\n",
        "        horizontal and vertical directions.\n",
        "      - 'pad': The number of pixels that will be used to zero-pad the input.\n",
        "\n",
        "    During padding, 'pad' zeros should be placed symmetrically (i.e., equally on both sides)\n",
        "    along the height and width axes of the input. Be careful not to modfiy the original\n",
        "    input x directly.\n",
        "    Returns an array.\n",
        "    - out: Output data, of shape (N, F, H', W') where H' and W' are given by\n",
        "      H' = 1 + (H + 2 * pad - HH) / stride\n",
        "      W' = 1 + (W + 2 * pad - WW) / stride\n",
        "    \"\"\"\n",
        "    out = None\n",
        "\n",
        "    N, C, H, W = x.shape\n",
        "    num_filters, _, filter_height, filter_width = w.shape\n",
        "    stride, pad = conv_param[\"stride\"], conv_param[\"pad\"]\n",
        "\n",
        "    H_prime = 1 + (H + (2 * pad) - filter_height)//stride\n",
        "    W_prime = 1 + (W + (2 * pad) - filter_width)//stride\n",
        "\n",
        "    out = torch.empty(N,num_filters,H_prime,W_prime)\n",
        "\n",
        "    # Check dimensions.\n",
        "    assert (W + 2 * pad - filter_width) % stride == 0, \"width does not work\"\n",
        "    assert (H + 2 * pad - filter_height) % stride == 0, \"height does not work\"\n",
        "\n",
        "    ###########################################################################\n",
        "    # TODO: Implement the forward pass of a convolutional layer without using #\n",
        "    #       nn.Conv2D or other implementations of convolutions. Instead, use  #\n",
        "    #       standard for- and while-loops to iterate over the tensors.        #\n",
        "    #                                                                         #\n",
        "    # Hint: you can use the function torch.nn.functional.pad for padding.     #\n",
        "\n",
        "    x_padding=torch.nn.functional.pad(x,(pad,pad,pad,pad),mode='constant')\n",
        "    for n in range(N):\n",
        "      \n",
        "      for f in range(num_filters):\n",
        "        \n",
        "        for i in range(H_prime):\n",
        "          \n",
        "          for j in range(W_prime):\n",
        "            \n",
        "            out[n,f,i,j]=(torch.mul(x_padding[n,:,i*stride:i*stride+filter_height,j*stride:j*stride+filter_width],w[f])).sum()+b[f,]\n",
        "\n",
        "    \n",
        "    return out\n",
        "    ###########################################################################"
      ]
    },
    {
      "cell_type": "markdown",
      "metadata": {
        "id": "Zkjmj8k6hXmm"
      },
      "source": [
        "You can test your implementation by running the following testing code:"
      ]
    },
    {
      "cell_type": "code",
      "execution_count": null,
      "metadata": {
        "id": "Mccb8RSyhXmm",
        "colab": {
          "base_uri": "https://localhost:8080/"
        },
        "outputId": "9f39f972-5bbf-4cd9-a1d3-8062bb399978"
      },
      "outputs": [
        {
          "output_type": "stream",
          "name": "stdout",
          "text": [
            "Testing conv_forward_naive\n",
            "difference:  tensor(2.8497e-08)\n",
            "Nice work! Your implementation of a convolution layer works correctly.\n"
          ]
        }
      ],
      "source": [
        "# Make convolution module.\n",
        "w_shape = (3, 3, 4, 4)\n",
        "w = torch.linspace(-0.2, 0.3, steps=torch.prod(torch.tensor(w_shape))).reshape(w_shape)\n",
        "b = torch.linspace(-0.1, 0.2, steps=3)\n",
        "\n",
        "# Compute output of module and compare against reference values.\n",
        "x_shape = (2, 3, 4, 4)\n",
        "x = torch.linspace(-0.1, 0.5, steps=torch.prod(torch.tensor(x_shape))).reshape(x_shape)\n",
        "out = conv_forward_naive(x, w, b, {\"stride\": 2, \"pad\": 1})\n",
        "\n",
        "correct_out = torch.tensor(\n",
        "    [\n",
        "        [\n",
        "            [[-0.08759809, -0.10987781], [-0.18387192, -0.2109216]],\n",
        "            [[0.21027089, 0.21661097], [0.22847626, 0.23004637]],\n",
        "            [[0.50813986, 0.54309974], [0.64082444, 0.67101435]],\n",
        "        ],\n",
        "        [\n",
        "            [[-0.98053589, -1.03143541], [-1.19128892, -1.24695841]],\n",
        "            [[0.69108355, 0.66880383], [0.59480972, 0.56776003]],\n",
        "            [[2.36270298, 2.36904306], [2.38090835, 2.38247847]],\n",
        "        ],\n",
        "    ]\n",
        ")\n",
        "\n",
        "# Compare your output to ours; difference should be around e-8\n",
        "print(\"Testing conv_forward_naive\")\n",
        "rel_error = ((out - correct_out) / (out + correct_out + 1e-6)).mean()\n",
        "print(\"difference: \", rel_error)\n",
        "if abs(rel_error) < 1e-6:\n",
        "    print(\"Nice work! Your implementation of a convolution layer works correctly.\")\n",
        "else:\n",
        "    print(\n",
        "        \"Something is wrong. The output was expected to be {} but it was {}\".format(\n",
        "            correct_out, out\n",
        "        )\n",
        "    )"
      ]
    },
    {
      "cell_type": "markdown",
      "metadata": {
        "id": "GjTq5-k_q8s_"
      },
      "source": [
        "\n",
        "We will now replace the logistic regressor from the last tutorial by a small convolutional network with two convolutional layers and a linear layer, and ReLU activations in between the layers. Implement the model and use the same functions as before to train and test the convolutional network."
      ]
    },
    {
      "cell_type": "code",
      "execution_count": null,
      "metadata": {
        "id": "5t4hWoUYpp05",
        "colab": {
          "base_uri": "https://localhost:8080/"
        },
        "outputId": "dd48ec29-671d-4bf0-ce24-fda42f6024c9"
      },
      "outputs": [
        {
          "output_type": "stream",
          "name": "stdout",
          "text": [
            "Train Epoch: 0 \tLoss: 0.302579\n",
            "Train Epoch: 1 \tLoss: 0.204561\n",
            "Train Epoch: 2 \tLoss: 0.156604\n",
            "Train Epoch: 3 \tLoss: 0.122968\n",
            "Train Epoch: 4 \tLoss: 0.104663\n",
            "Accuracy: 9727 / 10000 (97%)\n"
          ]
        },
        {
          "output_type": "execute_result",
          "data": {
            "text/plain": [
              "97.27"
            ]
          },
          "metadata": {},
          "execution_count": 9
        }
      ],
      "source": [
        "class ConvolutionalNetwork(nn.Module):\n",
        "    \"\"\"Simple convolutional network.\"\"\"\n",
        "\n",
        "    def __init__(self, image_side_size, num_classes, in_channels=1):\n",
        "        super(ConvolutionalNetwork, self).__init__()\n",
        "\n",
        "        num_channels=8\n",
        "\n",
        "        # Fill these in:\n",
        "        ##########################################################################\n",
        "        # TODO: Implement a convulutional and a linear part.                     #\n",
        "        # Hint: see forward() to understand how they should work together.       #\n",
        "        ##########################################################################\n",
        "        self.conv_network = nn.Sequential(\n",
        "            # 1x28x28 -> 8x24x24.\n",
        "            nn.Conv2d(1, num_channels, kernel_size=5),\n",
        "            nn.ReLU(inplace=True),\n",
        "            # 8x24x24---> 8x20x20.\n",
        "            nn.Conv2d(num_channels, num_channels, kernel_size=5),\n",
        "            nn.ReLU(inplace=True),\n",
        "            )\n",
        "        self.linear = nn.Linear(num_channels*20**2,num_classes)\n",
        "\n",
        "\n",
        "    def forward(self, x):\n",
        "        x = self.conv_network(x)\n",
        "        #x=nn.ReLU(x)\n",
        "        x = self.linear(x.view(x.size(0), -1))\n",
        "        return x\n",
        "\n",
        "\n",
        "# Create and train convolutional network.\n",
        "# The accuracy should be around 96%.\n",
        "conv_model = ConvolutionalNetwork(28, 10)\n",
        "###########################################################################\n",
        "# TODO: Create criterion and optimize here.                               #\n",
        "###########################################################################\n",
        "criterion = nn.CrossEntropyLoss()\n",
        "optimizer = torch.optim.SGD(conv_model.parameters(),lr=0.01)\n",
        "\n",
        "train(conv_model, criterion, train_loader, optimizer, num_epochs=5)\n",
        "test(conv_model, test_loader)"
      ]
    },
    {
      "cell_type": "markdown",
      "metadata": {
        "id": "3YpTh2lwhXmn"
      },
      "source": [
        "Inspect the filters in the first layer of the trained convolutional network. What do they look like? Why?"
      ]
    },
    {
      "cell_type": "markdown",
      "source": [
        "1. The 8 filters of the first layer of our convolutional neural networks looks like weights that where randomly initialized with high pixel values and low pixel values (higher activations and lower activations). \n",
        "2. The reason is because at this early stage of convolutions, the filters are learning simple representation of the images (mostly edges)"
      ],
      "metadata": {
        "id": "e0qfOkA3OIDd"
      }
    },
    {
      "cell_type": "code",
      "execution_count": null,
      "metadata": {
        "id": "LuSuQHT6bNdU",
        "colab": {
          "base_uri": "https://localhost:8080/",
          "height": 83
        },
        "outputId": "708934e9-2eb0-4b94-f990-54aa6cb6bd6f"
      },
      "outputs": [
        {
          "output_type": "display_data",
          "data": {
            "text/plain": [
              "<Figure size 432x288 with 1 Axes>"
            ],
            "image/png": "[encoded data removed]"
          },
          "metadata": {
            "needs_background": "light"
          }
        }
      ],
      "source": [
        "first_conv = list(conv_model.conv_network.children())[0]\n",
        "show(\n",
        "    torchvision.utils.make_grid(\n",
        "        first_conv.weight,\n",
        "        normalize=True,\n",
        "        nrow=8,\n",
        "    )\n",
        ")"
      ]
    },
    {
      "cell_type": "markdown",
      "metadata": {
        "id": "71LRkRxndajG"
      },
      "source": [
        "## Batch Normalization\n"
      ]
    },
    {
      "cell_type": "markdown",
      "metadata": {
        "id": "oN8qTuGkZ-3X"
      },
      "source": [
        "Batch normalization is tenchique that allows to make training more stable fast [1].\n",
        "\n",
        "Below we define a convolutional network with 3 layers. Before each ReLU layer we insert a BatchNorm2d layer if `use_batch_norm` is `True`. This improves the convergence as guarantees as values have the same variance asn zero-means. As a result on average exactly half of the values will be nulled by ReLU.\n",
        "\n",
        "[1] Ioffe, Sergey, and Christian Szegedy. \"Batch normalization: Accelerating deep network training by reducing internal covariate shift.\" arXiv preprint arXiv:1502.03167 (2015).\n",
        "\n",
        "**Task**. Go ahead and add batch normalization layer."
      ]
    },
    {
      "cell_type": "code",
      "execution_count": null,
      "metadata": {
        "id": "vg4CO_WDeLqh"
      },
      "outputs": [],
      "source": [
        "class ConvolutionalNetworkWithBN(nn.Module):\n",
        "    \"\"\"Convolutional network uses batch normalization when `use_batch_norm` is `True`.\"\"\"\n",
        "\n",
        "    def __init__(self, use_batch_norm=False):\n",
        "        super().__init__()\n",
        "        num_channels = 8\n",
        "        self.use_batch_norm = use_batch_norm\n",
        "\n",
        "        # We define all our layers in a single Sequential. If use_batch_norm is\n",
        "        # True, we'd like maybe_batch_norm_layer to produce a batchnorm layer.\n",
        "        self.conv = nn.Sequential(\n",
        "            # 1x28x28 -> 8x24x24.\n",
        "            nn.Conv2d(1, num_channels, kernel_size=5),\n",
        "            # 8x24x24 -> 8x12x12.\n",
        "            nn.MaxPool2d(2),\n",
        "            self.maybe_batch_norm_layer(num_channels),\n",
        "            nn.ReLU(inplace=True),\n",
        "            nn.Conv2d(num_channels, num_channels, kernel_size=3, padding=1),\n",
        "            self.maybe_batch_norm_layer(num_channels),\n",
        "            nn.ReLU(inplace=True),\n",
        "            # 8x12x12 -> 8x8x8.\n",
        "            nn.Conv2d(num_channels, num_channels, kernel_size=5),\n",
        "            # 8x8x8 -> 8x4x4.\n",
        "            nn.MaxPool2d(2),\n",
        "            self.maybe_batch_norm_layer(num_channels),\n",
        "            nn.ReLU(inplace=True),\n",
        "        )\n",
        "        self.linear = nn.Linear(num_channels * 4**2, 10)\n",
        "\n",
        "    def maybe_batch_norm_layer(self, num_channels):\n",
        "        if self.use_batch_norm:\n",
        "            ###########################################################################\n",
        "            # TODO: Add batch norm layer                                              #\n",
        "            # Put your code between START_GRADING and END_GRADING.                    #\n",
        "            ###########################################################################\n",
        "            return nn.BatchNorm2d(num_channels)\n",
        "        else:\n",
        "            # This layer will copy its input to the output.\n",
        "            return nn.Identity()\n",
        "\n",
        "    def forward(self, x):\n",
        "        x = self.conv(x)\n",
        "        x = self.linear(x.view(x.size(0), -1))\n",
        "        return x"
      ]
    },
    {
      "cell_type": "markdown",
      "metadata": {
        "id": "qbtzzBhiJ4PW"
      },
      "source": [
        "To see how batch normalization improves stability, let's try to train the neural network with different learning rates and check the accuracies."
      ]
    },
    {
      "cell_type": "code",
      "execution_count": null,
      "metadata": {
        "id": "YXuSliJF3r7u",
        "colab": {
          "base_uri": "https://localhost:8080/"
        },
        "outputId": "42a75592-aaf6-4781-bde1-dc8e054ec128"
      },
      "outputs": [
        {
          "output_type": "stream",
          "name": "stdout",
          "text": [
            "Train Epoch: 0 \tLoss: 0.105552\n",
            "Accuracy: 9768 / 10000 (98%)\n",
            "##### lr=0.3 leads to GOOD accuracy (no batch normalization)\n",
            "Train Epoch: 0 \tLoss: 0.119931\n",
            "Accuracy: 9678 / 10000 (97%)\n",
            "##### lr=0.1 leads to GOOD accuracy (no batch normalization)\n",
            "Train Epoch: 0 \tLoss: 0.188326\n",
            "Accuracy: 9523 / 10000 (95%)\n",
            "##### lr=0.03 leads to DECENT accuracy (no batch normalization)\n",
            "Train Epoch: 0 \tLoss: 0.477572\n",
            "Accuracy: 8698 / 10000 (87%)\n",
            "##### lr=0.01 leads to BAD accuracy (no batch normalization)\n",
            "Train Epoch: 0 \tLoss: 2.245393\n",
            "Accuracy: 2470 / 10000 (25%)\n",
            "##### lr=0.003 leads to BAD accuracy (no batch normalization)\n"
          ]
        }
      ],
      "source": [
        "for lr in 0.3, 0.1, 0.03, 0.01, 0.003:\n",
        "    conv_model = ConvolutionalNetworkWithBN()\n",
        "    optimizer = torch.optim.SGD(conv_model.parameters(), lr=lr)\n",
        "    train(conv_model, nn.CrossEntropyLoss(), train_loader, optimizer, num_epochs=1)\n",
        "    accuracy = test(conv_model, test_loader)\n",
        "    if accuracy > 96:\n",
        "        print(f\"##### lr={lr} leads to GOOD accuracy (no batch normalization)\")\n",
        "    elif accuracy > 90:\n",
        "        print(f\"##### lr={lr} leads to DECENT accuracy (no batch normalization)\")\n",
        "    else:\n",
        "        print(f\"##### lr={lr} leads to BAD accuracy (no batch normalization)\")"
      ]
    },
    {
      "cell_type": "markdown",
      "metadata": {
        "id": "WrJBxM03KOZ-"
      },
      "source": [
        "As you can see learning rate should be in a narrow region to get GOOD result.\n",
        "\n",
        "Now let's try to run the same batch normalization. Before running the code you should finish TODO in ConvolutionalNetworkWithBN code. If your code is correct, then accuracies will improve."
      ]
    },
    {
      "cell_type": "code",
      "execution_count": null,
      "metadata": {
        "id": "6u2JJdnX5VKF",
        "colab": {
          "base_uri": "https://localhost:8080/"
        },
        "outputId": "036f9b49-ac14-4379-eb43-3a176fde2d3b"
      },
      "outputs": [
        {
          "output_type": "stream",
          "name": "stdout",
          "text": [
            "Train Epoch: 0 \tLoss: 0.062189\n",
            "Accuracy: 9719 / 10000 (97%)\n",
            "##### lr=0.3 leads to GOOD accuracy (with batch normalization)\n",
            "Train Epoch: 0 \tLoss: 0.065222\n",
            "Accuracy: 9823 / 10000 (98%)\n",
            "##### lr=0.1 leads to GOOD accuracy (with batch normalization)\n",
            "Train Epoch: 0 \tLoss: 0.113170\n",
            "Accuracy: 9719 / 10000 (97%)\n",
            "##### lr=0.03 leads to GOOD accuracy (with batch normalization)\n",
            "Train Epoch: 0 \tLoss: 0.170191\n",
            "Accuracy: 9638 / 10000 (96%)\n",
            "##### lr=0.01 leads to GOOD accuracy (with batch normalization)\n",
            "Train Epoch: 0 \tLoss: 0.482059\n",
            "Accuracy: 9352 / 10000 (94%)\n",
            "##### lr=0.003 leads to DECENT accuracy (with batch normalization)\n"
          ]
        }
      ],
      "source": [
        "for lr in 0.3, 0.1, 0.03, 0.01, 0.003:\n",
        "    conv_model = ConvolutionalNetworkWithBN(use_batch_norm=True)\n",
        "    optimizer = torch.optim.SGD(conv_model.parameters(), lr=lr)\n",
        "    train(conv_model, nn.CrossEntropyLoss(), train_loader, optimizer, num_epochs=1)\n",
        "    accuracy = test(conv_model, test_loader)\n",
        "    if accuracy > 96:\n",
        "        print(f\"##### lr={lr} leads to GOOD accuracy (with batch normalization)\")\n",
        "    elif accuracy > 90:\n",
        "        print(f\"##### lr={lr} leads to DECENT accuracy (with batch normalization)\")\n",
        "    else:\n",
        "        print(f\"##### lr={lr} leads to BAD accuracy (with batch normalization)\")\n",
        "    if lr >= 0.01:\n",
        "        assert (\n",
        "            accuracy > 90\n",
        "        ), \"Accuracy is too low. Check that your BatchNorm implementation is correct!\""
      ]
    },
    {
      "cell_type": "markdown",
      "metadata": {
        "id": "gdgr7eNFTTAn"
      },
      "source": [
        "**Question [optional]:** Replace the batch normalization layer in your network by your own implementation. Confirm your batch-normalization implementation is correct."
      ]
    },
    {
      "cell_type": "code",
      "execution_count": null,
      "metadata": {
        "id": "MAuhUMtjTj3f"
      },
      "outputs": [],
      "source": [
        "class MyBatchNorm2d(nn.Module):\n",
        "    \"\"\"Simple implementation of batch normalization.\"\"\"\n",
        "\n",
        "    def __init__(self, num_channels, momentum=0.1, epsilon=1e-5):\n",
        "        super(MyBatchNorm2d, self).__init__()\n",
        "\n",
        "        # Initialize bias and gain parameters.\n",
        "        self.gamma = nn.Parameter(torch.ones(1, num_channels, 1, 1))\n",
        "        self.beta = nn.Parameter(torch.zeros(1, num_channels, 1, 1))\n",
        "\n",
        "        # Initialize moving averages.\n",
        "        self.epsilon = epsilon\n",
        "        self.momentum = momentum\n",
        "        self.register_buffer(\"running_mean\", torch.zeros((1, num_channels, 1, 1)))\n",
        "        self.register_buffer(\"running_var\", torch.ones((1, num_channels, 1, 1)))\n",
        "\n",
        "    def forward(self, x):\n",
        "        # Check that input is of correct size.\n",
        "        assert x.dim() == 4, \"input should be NCHW\"\n",
        "        assert x.size(1) == self.gamma.numel()\n",
        "\n",
        "        ########################################################################\n",
        "        # TODO: Add batch norm layer implementation.                           #\n",
        "        # You code should:                                                     # x(n,c, h,w)\n",
        "        #   * Compute mean and var.                                            #\n",
        "        #   * Update running_mean and running_var.                             #\n",
        "        #   * Apply mean - variance normalization to x.                        #\n",
        "        # Put your code between START_GRADING and END_GRADING.                 #\n",
        "        ########################################################################\n",
        "\n",
        "        if not mode:\n",
        "          x_hat= (x-self.running_mean)/torch.sqrt(self.running_var+ self.epsilon)\n",
        "        else:\n",
        "\n",
        "          mean=x.mean(dim=(0,2,3),keepdim=True)\n",
        "          var=torch.var(x,dim=(0,2,3),keepdim=True) #x.var(dim=(0,2,3))\n",
        "\n",
        "          x_hat= (x-mean)/(torch.sqrt(var+self.epsilon)). # x-mu/\n",
        "\n",
        "          self.running_mean= (1-self.momentum)*self.running_mean + mean*self.momentum. #(1-gamma)*run_mu + mean*gamma\n",
        "          self.running_var= (1-self.momentum)*self.running_var + var*self.momentum\n",
        "\n",
        "        y_hat=self.gamma*x_hat + self.beta #   \n",
        "\n",
        "        return y_hat"
      ]
    },
    {
      "cell_type": "code",
      "execution_count": null,
      "metadata": {
        "id": "Yev37BQShXmq",
        "colab": {
          "base_uri": "https://localhost:8080/"
        },
        "outputId": "3c227504-bc77-48fa-e9e6-c37853a03136"
      },
      "outputs": [
        {
          "output_type": "stream",
          "name": "stdout",
          "text": [
            "All OK!\n"
          ]
        }
      ],
      "source": [
        "# Use this code to test if your implementation is correct.\n",
        "batch_size, num_channels, im_size = 32, 8, 6\n",
        "batchnorm1 = nn.BatchNorm2d(num_channels)\n",
        "batchnorm2 = MyBatchNorm2d(num_channels)\n",
        "for key, param in batchnorm1.named_parameters():\n",
        "    if key == \"weight\":\n",
        "        param.data.fill_(1.0)  # undo random initialization in nn.BatchNorm2d\n",
        "for mode in [True, False]:  # test in training and evaluation mode\n",
        "    batchnorm1.train(mode=mode)\n",
        "    batchnorm2.train(mode=mode)\n",
        "    for _ in range(5):\n",
        "        x = torch.randn(batch_size, num_channels, im_size, im_size) + 10.0\n",
        "        out1 = batchnorm1(x)\n",
        "        out2 = batchnorm2(x)\n",
        "        assert (\n",
        "            batchnorm1.running_mean - batchnorm2.running_mean.squeeze()\n",
        "        ).abs().max() < 1e-5, \"running mean is incorrect (%s mode)\" % (\n",
        "            \"train\" if mode else \"eval\"\n",
        "        )\n",
        "        assert (\n",
        "            batchnorm1.running_var - batchnorm2.running_var.squeeze()\n",
        "        ).abs().max() < 1e-5, \"running variance is incorrect (%s mode)\" % (\n",
        "            \"train\" if mode else \"eval\"\n",
        "        )\n",
        "        assert (\n",
        "            out1 - out2\n",
        "        ).abs().max() < 5e-3, \"normalized output is incorrect (%s mode)\" % (\n",
        "            \"train\" if mode else \"eval\"\n",
        "        )\n",
        "print(\"All OK!\")"
      ]
    }
  ],
  "metadata": {
    "accelerator": "GPU",
    "colab": {
      "collapsed_sections": [],
      "name": "convnet_tutorial2b_Tchangmena_A_Nken_Allassan.ipynb",
      "provenance": []
    },
    "kernelspec": {
      "display_name": "Python 3 (ipykernel)",
      "language": "python",
      "name": "python3"
    },
    "language_info": {
      "codemirror_mode": {
        "name": "ipython",
        "version": 3
      },
      "file_extension": ".py",
      "mimetype": "text/x-python",
      "name": "python",
      "nbconvert_exporter": "python",
      "pygments_lexer": "ipython3",
      "version": "3.10.2"
    },
    "widgets": {
      "application/vnd.jupyter.widget-state+json": {
        "a2fb341843f94db0927cf7e089980238": {
          "model_module": "@jupyter-widgets/controls",
          "model_name": "HBoxModel",
          "model_module_version": "1.5.0",
          "state": {
            "_dom_classes": [],
            "_model_module": "@jupyter-widgets/controls",
            "_model_module_version": "1.5.0",
            "_model_name": "HBoxModel",
            "_view_count": null,
            "_view_module": "@jupyter-widgets/controls",
            "_view_module_version": "1.5.0",
            "_view_name": "HBoxView",
            "box_style": "",
            "children": [
              "IPY_MODEL_20ae9308def6467293528375298dea0c",
              "IPY_MODEL_7c0dd21a079b46c4ba6c5907ebc0a13b",
              "IPY_MODEL_a0209cfcc858443aba09380229c13db8"
            ],
            "layout": "IPY_MODEL_61f502c1a9464d279d0e02c7b4ff99bd"
          }
        },
        "20ae9308def6467293528375298dea0c": {
          "model_module": "@jupyter-widgets/controls",
          "model_name": "HTMLModel",
          "model_module_version": "1.5.0",
          "state": {
            "_dom_classes": [],
            "_model_module": "@jupyter-widgets/controls",
            "_model_module_version": "1.5.0",
            "_model_name": "HTMLModel",
            "_view_count": null,
            "_view_module": "@jupyter-widgets/controls",
            "_view_module_version": "1.5.0",
            "_view_name": "HTMLView",
            "description": "",
            "description_tooltip": null,
            "layout": "IPY_MODEL_77f84c3cc89441a2933786d68712f336",
            "placeholder": "​",
            "style": "IPY_MODEL_35a3a3864fa6491eaa0445efb47887e4",
            "value": ""
          }
        },
        "7c0dd21a079b46c4ba6c5907ebc0a13b": {
          "model_module": "@jupyter-widgets/controls",
          "model_name": "FloatProgressModel",
          "model_module_version": "1.5.0",
          "state": {
            "_dom_classes": [],
            "_model_module": "@jupyter-widgets/controls",
            "_model_module_version": "1.5.0",
            "_model_name": "FloatProgressModel",
            "_view_count": null,
            "_view_module": "@jupyter-widgets/controls",
            "_view_module_version": "1.5.0",
            "_view_name": "ProgressView",
            "bar_style": "success",
            "description": "",
            "description_tooltip": null,
            "layout": "IPY_MODEL_0882ad83921e444db730c20e1cea889e",
            "max": 9912422,
            "min": 0,
            "orientation": "horizontal",
            "style": "IPY_MODEL_bc1700d683b743d5a0f10466483eb8ad",
            "value": 9912422
          }
        },
        "a0209cfcc858443aba09380229c13db8": {
          "model_module": "@jupyter-widgets/controls",
          "model_name": "HTMLModel",
          "model_module_version": "1.5.0",
          "state": {
            "_dom_classes": [],
            "_model_module": "@jupyter-widgets/controls",
            "_model_module_version": "1.5.0",
            "_model_name": "HTMLModel",
            "_view_count": null,
            "_view_module": "@jupyter-widgets/controls",
            "_view_module_version": "1.5.0",
            "_view_name": "HTMLView",
            "description": "",
            "description_tooltip": null,
            "layout": "IPY_MODEL_d0422f29a3384835ba286e1fea39fe32",
            "placeholder": "​",
            "style": "IPY_MODEL_4ba6c404e5934eb8b8a880677295a818",
            "value": " 9913344/? [00:00&lt;00:00, 17650721.70it/s]"
          }
        },
        "61f502c1a9464d279d0e02c7b4ff99bd": {
          "model_module": "@jupyter-widgets/base",
          "model_name": "LayoutModel",
          "model_module_version": "1.2.0",
          "state": {
            "_model_module": "@jupyter-widgets/base",
            "_model_module_version": "1.2.0",
            "_model_name": "LayoutModel",
            "_view_count": null,
            "_view_module": "@jupyter-widgets/base",
            "_view_module_version": "1.2.0",
            "_view_name": "LayoutView",
            "align_content": null,
            "align_items": null,
            "align_self": null,
            "border": null,
            "bottom": null,
            "display": null,
            "flex": null,
            "flex_flow": null,
            "grid_area": null,
            "grid_auto_columns": null,
            "grid_auto_flow": null,
            "grid_auto_rows": null,
            "grid_column": null,
            "grid_gap": null,
            "grid_row": null,
            "grid_template_areas": null,
            "grid_template_columns": null,
            "grid_template_rows": null,
            "height": null,
            "justify_content": null,
            "justify_items": null,
            "left": null,
            "margin": null,
            "max_height": null,
            "max_width": null,
            "min_height": null,
            "min_width": null,
            "object_fit": null,
            "object_position": null,
            "order": null,
            "overflow": null,
            "overflow_x": null,
            "overflow_y": null,
            "padding": null,
            "right": null,
            "top": null,
            "visibility": null,
            "width": null
          }
        },
        "77f84c3cc89441a2933786d68712f336": {
          "model_module": "@jupyter-widgets/base",
          "model_name": "LayoutModel",
          "model_module_version": "1.2.0",
          "state": {
            "_model_module": "@jupyter-widgets/base",
            "_model_module_version": "1.2.0",
            "_model_name": "LayoutModel",
            "_view_count": null,
            "_view_module": "@jupyter-widgets/base",
            "_view_module_version": "1.2.0",
            "_view_name": "LayoutView",
            "align_content": null,
            "align_items": null,
            "align_self": null,
            "border": null,
            "bottom": null,
            "display": null,
            "flex": null,
            "flex_flow": null,
            "grid_area": null,
            "grid_auto_columns": null,
            "grid_auto_flow": null,
            "grid_auto_rows": null,
            "grid_column": null,
            "grid_gap": null,
            "grid_row": null,
            "grid_template_areas": null,
            "grid_template_columns": null,
            "grid_template_rows": null,
            "height": null,
            "justify_content": null,
            "justify_items": null,
            "left": null,
            "margin": null,
            "max_height": null,
            "max_width": null,
            "min_height": null,
            "min_width": null,
            "object_fit": null,
            "object_position": null,
            "order": null,
            "overflow": null,
            "overflow_x": null,
            "overflow_y": null,
            "padding": null,
            "right": null,
            "top": null,
            "visibility": null,
            "width": null
          }
        },
        "35a3a3864fa6491eaa0445efb47887e4": {
          "model_module": "@jupyter-widgets/controls",
          "model_name": "DescriptionStyleModel",
          "model_module_version": "1.5.0",
          "state": {
            "_model_module": "@jupyter-widgets/controls",
            "_model_module_version": "1.5.0",
            "_model_name": "DescriptionStyleModel",
            "_view_count": null,
            "_view_module": "@jupyter-widgets/base",
            "_view_module_version": "1.2.0",
            "_view_name": "StyleView",
            "description_width": ""
          }
        },
        "0882ad83921e444db730c20e1cea889e": {
          "model_module": "@jupyter-widgets/base",
          "model_name": "LayoutModel",
          "model_module_version": "1.2.0",
          "state": {
            "_model_module": "@jupyter-widgets/base",
            "_model_module_version": "1.2.0",
            "_model_name": "LayoutModel",
            "_view_count": null,
            "_view_module": "@jupyter-widgets/base",
            "_view_module_version": "1.2.0",
            "_view_name": "LayoutView",
            "align_content": null,
            "align_items": null,
            "align_self": null,
            "border": null,
            "bottom": null,
            "display": null,
            "flex": null,
            "flex_flow": null,
            "grid_area": null,
            "grid_auto_columns": null,
            "grid_auto_flow": null,
            "grid_auto_rows": null,
            "grid_column": null,
            "grid_gap": null,
            "grid_row": null,
            "grid_template_areas": null,
            "grid_template_columns": null,
            "grid_template_rows": null,
            "height": null,
            "justify_content": null,
            "justify_items": null,
            "left": null,
            "margin": null,
            "max_height": null,
            "max_width": null,
            "min_height": null,
            "min_width": null,
            "object_fit": null,
            "object_position": null,
            "order": null,
            "overflow": null,
            "overflow_x": null,
            "overflow_y": null,
            "padding": null,
            "right": null,
            "top": null,
            "visibility": null,
            "width": null
          }
        },
        "bc1700d683b743d5a0f10466483eb8ad": {
          "model_module": "@jupyter-widgets/controls",
          "model_name": "ProgressStyleModel",
          "model_module_version": "1.5.0",
          "state": {
            "_model_module": "@jupyter-widgets/controls",
            "_model_module_version": "1.5.0",
            "_model_name": "ProgressStyleModel",
            "_view_count": null,
            "_view_module": "@jupyter-widgets/base",
            "_view_module_version": "1.2.0",
            "_view_name": "StyleView",
            "bar_color": null,
            "description_width": ""
          }
        },
        "d0422f29a3384835ba286e1fea39fe32": {
          "model_module": "@jupyter-widgets/base",
          "model_name": "LayoutModel",
          "model_module_version": "1.2.0",
          "state": {
            "_model_module": "@jupyter-widgets/base",
            "_model_module_version": "1.2.0",
            "_model_name": "LayoutModel",
            "_view_count": null,
            "_view_module": "@jupyter-widgets/base",
            "_view_module_version": "1.2.0",
            "_view_name": "LayoutView",
            "align_content": null,
            "align_items": null,
            "align_self": null,
            "border": null,
            "bottom": null,
            "display": null,
            "flex": null,
            "flex_flow": null,
            "grid_area": null,
            "grid_auto_columns": null,
            "grid_auto_flow": null,
            "grid_auto_rows": null,
            "grid_column": null,
            "grid_gap": null,
            "grid_row": null,
            "grid_template_areas": null,
            "grid_template_columns": null,
            "grid_template_rows": null,
            "height": null,
            "justify_content": null,
            "justify_items": null,
            "left": null,
            "margin": null,
            "max_height": null,
            "max_width": null,
            "min_height": null,
            "min_width": null,
            "object_fit": null,
            "object_position": null,
            "order": null,
            "overflow": null,
            "overflow_x": null,
            "overflow_y": null,
            "padding": null,
            "right": null,
            "top": null,
            "visibility": null,
            "width": null
          }
        },
        "4ba6c404e5934eb8b8a880677295a818": {
          "model_module": "@jupyter-widgets/controls",
          "model_name": "DescriptionStyleModel",
          "model_module_version": "1.5.0",
          "state": {
            "_model_module": "@jupyter-widgets/controls",
            "_model_module_version": "1.5.0",
            "_model_name": "DescriptionStyleModel",
            "_view_count": null,
            "_view_module": "@jupyter-widgets/base",
            "_view_module_version": "1.2.0",
            "_view_name": "StyleView",
            "description_width": ""
          }
        },
        "fa7f9127976649639f61303bb83f9517": {
          "model_module": "@jupyter-widgets/controls",
          "model_name": "HBoxModel",
          "model_module_version": "1.5.0",
          "state": {
            "_dom_classes": [],
            "_model_module": "@jupyter-widgets/controls",
            "_model_module_version": "1.5.0",
            "_model_name": "HBoxModel",
            "_view_count": null,
            "_view_module": "@jupyter-widgets/controls",
            "_view_module_version": "1.5.0",
            "_view_name": "HBoxView",
            "box_style": "",
            "children": [
              "IPY_MODEL_46f88b047b8542c8ac15f14f0a3eb228",
              "IPY_MODEL_9d9f8e4d2e644f6eb37224d2f3d7b1b5",
              "IPY_MODEL_3a4e2f06d7ef4023a805b477d6a35dbe"
            ],
            "layout": "IPY_MODEL_05f61d2685ac4090a85292079bed7032"
          }
        },
        "46f88b047b8542c8ac15f14f0a3eb228": {
          "model_module": "@jupyter-widgets/controls",
          "model_name": "HTMLModel",
          "model_module_version": "1.5.0",
          "state": {
            "_dom_classes": [],
            "_model_module": "@jupyter-widgets/controls",
            "_model_module_version": "1.5.0",
            "_model_name": "HTMLModel",
            "_view_count": null,
            "_view_module": "@jupyter-widgets/controls",
            "_view_module_version": "1.5.0",
            "_view_name": "HTMLView",
            "description": "",
            "description_tooltip": null,
            "layout": "IPY_MODEL_f0652bb1e2614016b47c5e5be226813d",
            "placeholder": "​",
            "style": "IPY_MODEL_7afe0ec325344878984d300c88554a5d",
            "value": ""
          }
        },
        "9d9f8e4d2e644f6eb37224d2f3d7b1b5": {
          "model_module": "@jupyter-widgets/controls",
          "model_name": "FloatProgressModel",
          "model_module_version": "1.5.0",
          "state": {
            "_dom_classes": [],
            "_model_module": "@jupyter-widgets/controls",
            "_model_module_version": "1.5.0",
            "_model_name": "FloatProgressModel",
            "_view_count": null,
            "_view_module": "@jupyter-widgets/controls",
            "_view_module_version": "1.5.0",
            "_view_name": "ProgressView",
            "bar_style": "success",
            "description": "",
            "description_tooltip": null,
            "layout": "IPY_MODEL_9fa0a389230c48f4a146fb623fb2ce67",
            "max": 28881,
            "min": 0,
            "orientation": "horizontal",
            "style": "IPY_MODEL_a69f2b05e74d481aa35cac212dc5ecec",
            "value": 28881
          }
        },
        "3a4e2f06d7ef4023a805b477d6a35dbe": {
          "model_module": "@jupyter-widgets/controls",
          "model_name": "HTMLModel",
          "model_module_version": "1.5.0",
          "state": {
            "_dom_classes": [],
            "_model_module": "@jupyter-widgets/controls",
            "_model_module_version": "1.5.0",
            "_model_name": "HTMLModel",
            "_view_count": null,
            "_view_module": "@jupyter-widgets/controls",
            "_view_module_version": "1.5.0",
            "_view_name": "HTMLView",
            "description": "",
            "description_tooltip": null,
            "layout": "IPY_MODEL_63a9248cd8984bd58ccf113b01fcb492",
            "placeholder": "​",
            "style": "IPY_MODEL_a53568d684bf46ccb8aec66076b0d62e",
            "value": " 29696/? [00:00&lt;00:00, 853764.89it/s]"
          }
        },
        "05f61d2685ac4090a85292079bed7032": {
          "model_module": "@jupyter-widgets/base",
          "model_name": "LayoutModel",
          "model_module_version": "1.2.0",
          "state": {
            "_model_module": "@jupyter-widgets/base",
            "_model_module_version": "1.2.0",
            "_model_name": "LayoutModel",
            "_view_count": null,
            "_view_module": "@jupyter-widgets/base",
            "_view_module_version": "1.2.0",
            "_view_name": "LayoutView",
            "align_content": null,
            "align_items": null,
            "align_self": null,
            "border": null,
            "bottom": null,
            "display": null,
            "flex": null,
            "flex_flow": null,
            "grid_area": null,
            "grid_auto_columns": null,
            "grid_auto_flow": null,
            "grid_auto_rows": null,
            "grid_column": null,
            "grid_gap": null,
            "grid_row": null,
            "grid_template_areas": null,
            "grid_template_columns": null,
            "grid_template_rows": null,
            "height": null,
            "justify_content": null,
            "justify_items": null,
            "left": null,
            "margin": null,
            "max_height": null,
            "max_width": null,
            "min_height": null,
            "min_width": null,
            "object_fit": null,
            "object_position": null,
            "order": null,
            "overflow": null,
            "overflow_x": null,
            "overflow_y": null,
            "padding": null,
            "right": null,
            "top": null,
            "visibility": null,
            "width": null
          }
        },
        "f0652bb1e2614016b47c5e5be226813d": {
          "model_module": "@jupyter-widgets/base",
          "model_name": "LayoutModel",
          "model_module_version": "1.2.0",
          "state": {
            "_model_module": "@jupyter-widgets/base",
            "_model_module_version": "1.2.0",
            "_model_name": "LayoutModel",
            "_view_count": null,
            "_view_module": "@jupyter-widgets/base",
            "_view_module_version": "1.2.0",
            "_view_name": "LayoutView",
            "align_content": null,
            "align_items": null,
            "align_self": null,
            "border": null,
            "bottom": null,
            "display": null,
            "flex": null,
            "flex_flow": null,
            "grid_area": null,
            "grid_auto_columns": null,
            "grid_auto_flow": null,
            "grid_auto_rows": null,
            "grid_column": null,
            "grid_gap": null,
            "grid_row": null,
            "grid_template_areas": null,
            "grid_template_columns": null,
            "grid_template_rows": null,
            "height": null,
            "justify_content": null,
            "justify_items": null,
            "left": null,
            "margin": null,
            "max_height": null,
            "max_width": null,
            "min_height": null,
            "min_width": null,
            "object_fit": null,
            "object_position": null,
            "order": null,
            "overflow": null,
            "overflow_x": null,
            "overflow_y": null,
            "padding": null,
            "right": null,
            "top": null,
            "visibility": null,
            "width": null
          }
        },
        "7afe0ec325344878984d300c88554a5d": {
          "model_module": "@jupyter-widgets/controls",
          "model_name": "DescriptionStyleModel",
          "model_module_version": "1.5.0",
          "state": {
            "_model_module": "@jupyter-widgets/controls",
            "_model_module_version": "1.5.0",
            "_model_name": "DescriptionStyleModel",
            "_view_count": null,
            "_view_module": "@jupyter-widgets/base",
            "_view_module_version": "1.2.0",
            "_view_name": "StyleView",
            "description_width": ""
          }
        },
        "9fa0a389230c48f4a146fb623fb2ce67": {
          "model_module": "@jupyter-widgets/base",
          "model_name": "LayoutModel",
          "model_module_version": "1.2.0",
          "state": {
            "_model_module": "@jupyter-widgets/base",
            "_model_module_version": "1.2.0",
            "_model_name": "LayoutModel",
            "_view_count": null,
            "_view_module": "@jupyter-widgets/base",
            "_view_module_version": "1.2.0",
            "_view_name": "LayoutView",
            "align_content": null,
            "align_items": null,
            "align_self": null,
            "border": null,
            "bottom": null,
            "display": null,
            "flex": null,
            "flex_flow": null,
            "grid_area": null,
            "grid_auto_columns": null,
            "grid_auto_flow": null,
            "grid_auto_rows": null,
            "grid_column": null,
            "grid_gap": null,
            "grid_row": null,
            "grid_template_areas": null,
            "grid_template_columns": null,
            "grid_template_rows": null,
            "height": null,
            "justify_content": null,
            "justify_items": null,
            "left": null,
            "margin": null,
            "max_height": null,
            "max_width": null,
            "min_height": null,
            "min_width": null,
            "object_fit": null,
            "object_position": null,
            "order": null,
            "overflow": null,
            "overflow_x": null,
            "overflow_y": null,
            "padding": null,
            "right": null,
            "top": null,
            "visibility": null,
            "width": null
          }
        },
        "a69f2b05e74d481aa35cac212dc5ecec": {
          "model_module": "@jupyter-widgets/controls",
          "model_name": "ProgressStyleModel",
          "model_module_version": "1.5.0",
          "state": {
            "_model_module": "@jupyter-widgets/controls",
            "_model_module_version": "1.5.0",
            "_model_name": "ProgressStyleModel",
            "_view_count": null,
            "_view_module": "@jupyter-widgets/base",
            "_view_module_version": "1.2.0",
            "_view_name": "StyleView",
            "bar_color": null,
            "description_width": ""
          }
        },
        "63a9248cd8984bd58ccf113b01fcb492": {
          "model_module": "@jupyter-widgets/base",
          "model_name": "LayoutModel",
          "model_module_version": "1.2.0",
          "state": {
            "_model_module": "@jupyter-widgets/base",
            "_model_module_version": "1.2.0",
            "_model_name": "LayoutModel",
            "_view_count": null,
            "_view_module": "@jupyter-widgets/base",
            "_view_module_version": "1.2.0",
            "_view_name": "LayoutView",
            "align_content": null,
            "align_items": null,
            "align_self": null,
            "border": null,
            "bottom": null,
            "display": null,
            "flex": null,
            "flex_flow": null,
            "grid_area": null,
            "grid_auto_columns": null,
            "grid_auto_flow": null,
            "grid_auto_rows": null,
            "grid_column": null,
            "grid_gap": null,
            "grid_row": null,
            "grid_template_areas": null,
            "grid_template_columns": null,
            "grid_template_rows": null,
            "height": null,
            "justify_content": null,
            "justify_items": null,
            "left": null,
            "margin": null,
            "max_height": null,
            "max_width": null,
            "min_height": null,
            "min_width": null,
            "object_fit": null,
            "object_position": null,
            "order": null,
            "overflow": null,
            "overflow_x": null,
            "overflow_y": null,
            "padding": null,
            "right": null,
            "top": null,
            "visibility": null,
            "width": null
          }
        },
        "a53568d684bf46ccb8aec66076b0d62e": {
          "model_module": "@jupyter-widgets/controls",
          "model_name": "DescriptionStyleModel",
          "model_module_version": "1.5.0",
          "state": {
            "_model_module": "@jupyter-widgets/controls",
            "_model_module_version": "1.5.0",
            "_model_name": "DescriptionStyleModel",
            "_view_count": null,
            "_view_module": "@jupyter-widgets/base",
            "_view_module_version": "1.2.0",
            "_view_name": "StyleView",
            "description_width": ""
          }
        },
        "13cdf2ec7e164e6ba5fd58a003b19880": {
          "model_module": "@jupyter-widgets/controls",
          "model_name": "HBoxModel",
          "model_module_version": "1.5.0",
          "state": {
            "_dom_classes": [],
            "_model_module": "@jupyter-widgets/controls",
            "_model_module_version": "1.5.0",
            "_model_name": "HBoxModel",
            "_view_count": null,
            "_view_module": "@jupyter-widgets/controls",
            "_view_module_version": "1.5.0",
            "_view_name": "HBoxView",
            "box_style": "",
            "children": [
              "IPY_MODEL_ded050bbfa864a359e6c41f961f17a24",
              "IPY_MODEL_8b8bc5b911fb455e8a318b2aa5ea07e0",
              "IPY_MODEL_a60325f71d814d74911409ee66e21170"
            ],
            "layout": "IPY_MODEL_dceeacf3e2894cec81261053283b4d1f"
          }
        },
        "ded050bbfa864a359e6c41f961f17a24": {
          "model_module": "@jupyter-widgets/controls",
          "model_name": "HTMLModel",
          "model_module_version": "1.5.0",
          "state": {
            "_dom_classes": [],
            "_model_module": "@jupyter-widgets/controls",
            "_model_module_version": "1.5.0",
            "_model_name": "HTMLModel",
            "_view_count": null,
            "_view_module": "@jupyter-widgets/controls",
            "_view_module_version": "1.5.0",
            "_view_name": "HTMLView",
            "description": "",
            "description_tooltip": null,
            "layout": "IPY_MODEL_85e2ae26274d46ec87f3956a994ba49f",
            "placeholder": "​",
            "style": "IPY_MODEL_38047e164cfb479ab76f186c80484394",
            "value": ""
          }
        },
        "8b8bc5b911fb455e8a318b2aa5ea07e0": {
          "model_module": "@jupyter-widgets/controls",
          "model_name": "FloatProgressModel",
          "model_module_version": "1.5.0",
          "state": {
            "_dom_classes": [],
            "_model_module": "@jupyter-widgets/controls",
            "_model_module_version": "1.5.0",
            "_model_name": "FloatProgressModel",
            "_view_count": null,
            "_view_module": "@jupyter-widgets/controls",
            "_view_module_version": "1.5.0",
            "_view_name": "ProgressView",
            "bar_style": "success",
            "description": "",
            "description_tooltip": null,
            "layout": "IPY_MODEL_4688dcfb3d2f46a0b26c2c6a40ca0ffc",
            "max": 1648877,
            "min": 0,
            "orientation": "horizontal",
            "style": "IPY_MODEL_0599383e290c48a6ab538b03fe7145fe",
            "value": 1648877
          }
        },
        "a60325f71d814d74911409ee66e21170": {
          "model_module": "@jupyter-widgets/controls",
          "model_name": "HTMLModel",
          "model_module_version": "1.5.0",
          "state": {
            "_dom_classes": [],
            "_model_module": "@jupyter-widgets/controls",
            "_model_module_version": "1.5.0",
            "_model_name": "HTMLModel",
            "_view_count": null,
            "_view_module": "@jupyter-widgets/controls",
            "_view_module_version": "1.5.0",
            "_view_name": "HTMLView",
            "description": "",
            "description_tooltip": null,
            "layout": "IPY_MODEL_14f876eb86094c1e94b5ad1ae6b0c56f",
            "placeholder": "​",
            "style": "IPY_MODEL_1fd9d3ca6fa74ad3b3e06b227b21c59c",
            "value": " 1649664/? [00:00&lt;00:00, 18608983.69it/s]"
          }
        },
        "dceeacf3e2894cec81261053283b4d1f": {
          "model_module": "@jupyter-widgets/base",
          "model_name": "LayoutModel",
          "model_module_version": "1.2.0",
          "state": {
            "_model_module": "@jupyter-widgets/base",
            "_model_module_version": "1.2.0",
            "_model_name": "LayoutModel",
            "_view_count": null,
            "_view_module": "@jupyter-widgets/base",
            "_view_module_version": "1.2.0",
            "_view_name": "LayoutView",
            "align_content": null,
            "align_items": null,
            "align_self": null,
            "border": null,
            "bottom": null,
            "display": null,
            "flex": null,
            "flex_flow": null,
            "grid_area": null,
            "grid_auto_columns": null,
            "grid_auto_flow": null,
            "grid_auto_rows": null,
            "grid_column": null,
            "grid_gap": null,
            "grid_row": null,
            "grid_template_areas": null,
            "grid_template_columns": null,
            "grid_template_rows": null,
            "height": null,
            "justify_content": null,
            "justify_items": null,
            "left": null,
            "margin": null,
            "max_height": null,
            "max_width": null,
            "min_height": null,
            "min_width": null,
            "object_fit": null,
            "object_position": null,
            "order": null,
            "overflow": null,
            "overflow_x": null,
            "overflow_y": null,
            "padding": null,
            "right": null,
            "top": null,
            "visibility": null,
            "width": null
          }
        },
        "85e2ae26274d46ec87f3956a994ba49f": {
          "model_module": "@jupyter-widgets/base",
          "model_name": "LayoutModel",
          "model_module_version": "1.2.0",
          "state": {
            "_model_module": "@jupyter-widgets/base",
            "_model_module_version": "1.2.0",
            "_model_name": "LayoutModel",
            "_view_count": null,
            "_view_module": "@jupyter-widgets/base",
            "_view_module_version": "1.2.0",
            "_view_name": "LayoutView",
            "align_content": null,
            "align_items": null,
            "align_self": null,
            "border": null,
            "bottom": null,
            "display": null,
            "flex": null,
            "flex_flow": null,
            "grid_area": null,
            "grid_auto_columns": null,
            "grid_auto_flow": null,
            "grid_auto_rows": null,
            "grid_column": null,
            "grid_gap": null,
            "grid_row": null,
            "grid_template_areas": null,
            "grid_template_columns": null,
            "grid_template_rows": null,
            "height": null,
            "justify_content": null,
            "justify_items": null,
            "left": null,
            "margin": null,
            "max_height": null,
            "max_width": null,
            "min_height": null,
            "min_width": null,
            "object_fit": null,
            "object_position": null,
            "order": null,
            "overflow": null,
            "overflow_x": null,
            "overflow_y": null,
            "padding": null,
            "right": null,
            "top": null,
            "visibility": null,
            "width": null
          }
        },
        "38047e164cfb479ab76f186c80484394": {
          "model_module": "@jupyter-widgets/controls",
          "model_name": "DescriptionStyleModel",
          "model_module_version": "1.5.0",
          "state": {
            "_model_module": "@jupyter-widgets/controls",
            "_model_module_version": "1.5.0",
            "_model_name": "DescriptionStyleModel",
            "_view_count": null,
            "_view_module": "@jupyter-widgets/base",
            "_view_module_version": "1.2.0",
            "_view_name": "StyleView",
            "description_width": ""
          }
        },
        "4688dcfb3d2f46a0b26c2c6a40ca0ffc": {
          "model_module": "@jupyter-widgets/base",
          "model_name": "LayoutModel",
          "model_module_version": "1.2.0",
          "state": {
            "_model_module": "@jupyter-widgets/base",
            "_model_module_version": "1.2.0",
            "_model_name": "LayoutModel",
            "_view_count": null,
            "_view_module": "@jupyter-widgets/base",
            "_view_module_version": "1.2.0",
            "_view_name": "LayoutView",
            "align_content": null,
            "align_items": null,
            "align_self": null,
            "border": null,
            "bottom": null,
            "display": null,
            "flex": null,
            "flex_flow": null,
            "grid_area": null,
            "grid_auto_columns": null,
            "grid_auto_flow": null,
            "grid_auto_rows": null,
            "grid_column": null,
            "grid_gap": null,
            "grid_row": null,
            "grid_template_areas": null,
            "grid_template_columns": null,
            "grid_template_rows": null,
            "height": null,
            "justify_content": null,
            "justify_items": null,
            "left": null,
            "margin": null,
            "max_height": null,
            "max_width": null,
            "min_height": null,
            "min_width": null,
            "object_fit": null,
            "object_position": null,
            "order": null,
            "overflow": null,
            "overflow_x": null,
            "overflow_y": null,
            "padding": null,
            "right": null,
            "top": null,
            "visibility": null,
            "width": null
          }
        },
        "0599383e290c48a6ab538b03fe7145fe": {
          "model_module": "@jupyter-widgets/controls",
          "model_name": "ProgressStyleModel",
          "model_module_version": "1.5.0",
          "state": {
            "_model_module": "@jupyter-widgets/controls",
            "_model_module_version": "1.5.0",
            "_model_name": "ProgressStyleModel",
            "_view_count": null,
            "_view_module": "@jupyter-widgets/base",
            "_view_module_version": "1.2.0",
            "_view_name": "StyleView",
            "bar_color": null,
            "description_width": ""
          }
        },
        "14f876eb86094c1e94b5ad1ae6b0c56f": {
          "model_module": "@jupyter-widgets/base",
          "model_name": "LayoutModel",
          "model_module_version": "1.2.0",
          "state": {
            "_model_module": "@jupyter-widgets/base",
            "_model_module_version": "1.2.0",
            "_model_name": "LayoutModel",
            "_view_count": null,
            "_view_module": "@jupyter-widgets/base",
            "_view_module_version": "1.2.0",
            "_view_name": "LayoutView",
            "align_content": null,
            "align_items": null,
            "align_self": null,
            "border": null,
            "bottom": null,
            "display": null,
            "flex": null,
            "flex_flow": null,
            "grid_area": null,
            "grid_auto_columns": null,
            "grid_auto_flow": null,
            "grid_auto_rows": null,
            "grid_column": null,
            "grid_gap": null,
            "grid_row": null,
            "grid_template_areas": null,
            "grid_template_columns": null,
            "grid_template_rows": null,
            "height": null,
            "justify_content": null,
            "justify_items": null,
            "left": null,
            "margin": null,
            "max_height": null,
            "max_width": null,
            "min_height": null,
            "min_width": null,
            "object_fit": null,
            "object_position": null,
            "order": null,
            "overflow": null,
            "overflow_x": null,
            "overflow_y": null,
            "padding": null,
            "right": null,
            "top": null,
            "visibility": null,
            "width": null
          }
        },
        "1fd9d3ca6fa74ad3b3e06b227b21c59c": {
          "model_module": "@jupyter-widgets/controls",
          "model_name": "DescriptionStyleModel",
          "model_module_version": "1.5.0",
          "state": {
            "_model_module": "@jupyter-widgets/controls",
            "_model_module_version": "1.5.0",
            "_model_name": "DescriptionStyleModel",
            "_view_count": null,
            "_view_module": "@jupyter-widgets/base",
            "_view_module_version": "1.2.0",
            "_view_name": "StyleView",
            "description_width": ""
          }
        },
        "75ccce298f404631b2fd62bee5c60718": {
          "model_module": "@jupyter-widgets/controls",
          "model_name": "HBoxModel",
          "model_module_version": "1.5.0",
          "state": {
            "_dom_classes": [],
            "_model_module": "@jupyter-widgets/controls",
            "_model_module_version": "1.5.0",
            "_model_name": "HBoxModel",
            "_view_count": null,
            "_view_module": "@jupyter-widgets/controls",
            "_view_module_version": "1.5.0",
            "_view_name": "HBoxView",
            "box_style": "",
            "children": [
              "IPY_MODEL_32517f4cdfc44e9eaff17072ef1e94b2",
              "IPY_MODEL_1b15f16aaa6241d0abfa2415ff01fdd7",
              "IPY_MODEL_a6749cf1082946b4b91b4f8312b9e6c3"
            ],
            "layout": "IPY_MODEL_6e423cfa4e0e4bbf91c558052ac2d360"
          }
        },
        "32517f4cdfc44e9eaff17072ef1e94b2": {
          "model_module": "@jupyter-widgets/controls",
          "model_name": "HTMLModel",
          "model_module_version": "1.5.0",
          "state": {
            "_dom_classes": [],
            "_model_module": "@jupyter-widgets/controls",
            "_model_module_version": "1.5.0",
            "_model_name": "HTMLModel",
            "_view_count": null,
            "_view_module": "@jupyter-widgets/controls",
            "_view_module_version": "1.5.0",
            "_view_name": "HTMLView",
            "description": "",
            "description_tooltip": null,
            "layout": "IPY_MODEL_9815578d81eb4dbcaa940bf0616e7858",
            "placeholder": "​",
            "style": "IPY_MODEL_7bbb6e04688e49849878d4c256543e5b",
            "value": ""
          }
        },
        "1b15f16aaa6241d0abfa2415ff01fdd7": {
          "model_module": "@jupyter-widgets/controls",
          "model_name": "FloatProgressModel",
          "model_module_version": "1.5.0",
          "state": {
            "_dom_classes": [],
            "_model_module": "@jupyter-widgets/controls",
            "_model_module_version": "1.5.0",
            "_model_name": "FloatProgressModel",
            "_view_count": null,
            "_view_module": "@jupyter-widgets/controls",
            "_view_module_version": "1.5.0",
            "_view_name": "ProgressView",
            "bar_style": "success",
            "description": "",
            "description_tooltip": null,
            "layout": "IPY_MODEL_e305289c51d8446ea2cfba6141a91b16",
            "max": 4542,
            "min": 0,
            "orientation": "horizontal",
            "style": "IPY_MODEL_6155f251a40b48c294e2a570d5c018a3",
            "value": 4542
          }
        },
        "a6749cf1082946b4b91b4f8312b9e6c3": {
          "model_module": "@jupyter-widgets/controls",
          "model_name": "HTMLModel",
          "model_module_version": "1.5.0",
          "state": {
            "_dom_classes": [],
            "_model_module": "@jupyter-widgets/controls",
            "_model_module_version": "1.5.0",
            "_model_name": "HTMLModel",
            "_view_count": null,
            "_view_module": "@jupyter-widgets/controls",
            "_view_module_version": "1.5.0",
            "_view_name": "HTMLView",
            "description": "",
            "description_tooltip": null,
            "layout": "IPY_MODEL_80afdb7f3dd34f409ff74af7e0beb992",
            "placeholder": "​",
            "style": "IPY_MODEL_431bea6aa2684f95b972f4866677dfb2",
            "value": " 5120/? [00:00&lt;00:00, 142927.36it/s]"
          }
        },
        "6e423cfa4e0e4bbf91c558052ac2d360": {
          "model_module": "@jupyter-widgets/base",
          "model_name": "LayoutModel",
          "model_module_version": "1.2.0",
          "state": {
            "_model_module": "@jupyter-widgets/base",
            "_model_module_version": "1.2.0",
            "_model_name": "LayoutModel",
            "_view_count": null,
            "_view_module": "@jupyter-widgets/base",
            "_view_module_version": "1.2.0",
            "_view_name": "LayoutView",
            "align_content": null,
            "align_items": null,
            "align_self": null,
            "border": null,
            "bottom": null,
            "display": null,
            "flex": null,
            "flex_flow": null,
            "grid_area": null,
            "grid_auto_columns": null,
            "grid_auto_flow": null,
            "grid_auto_rows": null,
            "grid_column": null,
            "grid_gap": null,
            "grid_row": null,
            "grid_template_areas": null,
            "grid_template_columns": null,
            "grid_template_rows": null,
            "height": null,
            "justify_content": null,
            "justify_items": null,
            "left": null,
            "margin": null,
            "max_height": null,
            "max_width": null,
            "min_height": null,
            "min_width": null,
            "object_fit": null,
            "object_position": null,
            "order": null,
            "overflow": null,
            "overflow_x": null,
            "overflow_y": null,
            "padding": null,
            "right": null,
            "top": null,
            "visibility": null,
            "width": null
          }
        },
        "9815578d81eb4dbcaa940bf0616e7858": {
          "model_module": "@jupyter-widgets/base",
          "model_name": "LayoutModel",
          "model_module_version": "1.2.0",
          "state": {
            "_model_module": "@jupyter-widgets/base",
            "_model_module_version": "1.2.0",
            "_model_name": "LayoutModel",
            "_view_count": null,
            "_view_module": "@jupyter-widgets/base",
            "_view_module_version": "1.2.0",
            "_view_name": "LayoutView",
            "align_content": null,
            "align_items": null,
            "align_self": null,
            "border": null,
            "bottom": null,
            "display": null,
            "flex": null,
            "flex_flow": null,
            "grid_area": null,
            "grid_auto_columns": null,
            "grid_auto_flow": null,
            "grid_auto_rows": null,
            "grid_column": null,
            "grid_gap": null,
            "grid_row": null,
            "grid_template_areas": null,
            "grid_template_columns": null,
            "grid_template_rows": null,
            "height": null,
            "justify_content": null,
            "justify_items": null,
            "left": null,
            "margin": null,
            "max_height": null,
            "max_width": null,
            "min_height": null,
            "min_width": null,
            "object_fit": null,
            "object_position": null,
            "order": null,
            "overflow": null,
            "overflow_x": null,
            "overflow_y": null,
            "padding": null,
            "right": null,
            "top": null,
            "visibility": null,
            "width": null
          }
        },
        "7bbb6e04688e49849878d4c256543e5b": {
          "model_module": "@jupyter-widgets/controls",
          "model_name": "DescriptionStyleModel",
          "model_module_version": "1.5.0",
          "state": {
            "_model_module": "@jupyter-widgets/controls",
            "_model_module_version": "1.5.0",
            "_model_name": "DescriptionStyleModel",
            "_view_count": null,
            "_view_module": "@jupyter-widgets/base",
            "_view_module_version": "1.2.0",
            "_view_name": "StyleView",
            "description_width": ""
          }
        },
        "e305289c51d8446ea2cfba6141a91b16": {
          "model_module": "@jupyter-widgets/base",
          "model_name": "LayoutModel",
          "model_module_version": "1.2.0",
          "state": {
            "_model_module": "@jupyter-widgets/base",
            "_model_module_version": "1.2.0",
            "_model_name": "LayoutModel",
            "_view_count": null,
            "_view_module": "@jupyter-widgets/base",
            "_view_module_version": "1.2.0",
            "_view_name": "LayoutView",
            "align_content": null,
            "align_items": null,
            "align_self": null,
            "border": null,
            "bottom": null,
            "display": null,
            "flex": null,
            "flex_flow": null,
            "grid_area": null,
            "grid_auto_columns": null,
            "grid_auto_flow": null,
            "grid_auto_rows": null,
            "grid_column": null,
            "grid_gap": null,
            "grid_row": null,
            "grid_template_areas": null,
            "grid_template_columns": null,
            "grid_template_rows": null,
            "height": null,
            "justify_content": null,
            "justify_items": null,
            "left": null,
            "margin": null,
            "max_height": null,
            "max_width": null,
            "min_height": null,
            "min_width": null,
            "object_fit": null,
            "object_position": null,
            "order": null,
            "overflow": null,
            "overflow_x": null,
            "overflow_y": null,
            "padding": null,
            "right": null,
            "top": null,
            "visibility": null,
            "width": null
          }
        },
        "6155f251a40b48c294e2a570d5c018a3": {
          "model_module": "@jupyter-widgets/controls",
          "model_name": "ProgressStyleModel",
          "model_module_version": "1.5.0",
          "state": {
            "_model_module": "@jupyter-widgets/controls",
            "_model_module_version": "1.5.0",
            "_model_name": "ProgressStyleModel",
            "_view_count": null,
            "_view_module": "@jupyter-widgets/base",
            "_view_module_version": "1.2.0",
            "_view_name": "StyleView",
            "bar_color": null,
            "description_width": ""
          }
        },
        "80afdb7f3dd34f409ff74af7e0beb992": {
          "model_module": "@jupyter-widgets/base",
          "model_name": "LayoutModel",
          "model_module_version": "1.2.0",
          "state": {
            "_model_module": "@jupyter-widgets/base",
            "_model_module_version": "1.2.0",
            "_model_name": "LayoutModel",
            "_view_count": null,
            "_view_module": "@jupyter-widgets/base",
            "_view_module_version": "1.2.0",
            "_view_name": "LayoutView",
            "align_content": null,
            "align_items": null,
            "align_self": null,
            "border": null,
            "bottom": null,
            "display": null,
            "flex": null,
            "flex_flow": null,
            "grid_area": null,
            "grid_auto_columns": null,
            "grid_auto_flow": null,
            "grid_auto_rows": null,
            "grid_column": null,
            "grid_gap": null,
            "grid_row": null,
            "grid_template_areas": null,
            "grid_template_columns": null,
            "grid_template_rows": null,
            "height": null,
            "justify_content": null,
            "justify_items": null,
            "left": null,
            "margin": null,
            "max_height": null,
            "max_width": null,
            "min_height": null,
            "min_width": null,
            "object_fit": null,
            "object_position": null,
            "order": null,
            "overflow": null,
            "overflow_x": null,
            "overflow_y": null,
            "padding": null,
            "right": null,
            "top": null,
            "visibility": null,
            "width": null
          }
        },
        "431bea6aa2684f95b972f4866677dfb2": {
          "model_module": "@jupyter-widgets/controls",
          "model_name": "DescriptionStyleModel",
          "model_module_version": "1.5.0",
          "state": {
            "_model_module": "@jupyter-widgets/controls",
            "_model_module_version": "1.5.0",
            "_model_name": "DescriptionStyleModel",
            "_view_count": null,
            "_view_module": "@jupyter-widgets/base",
            "_view_module_version": "1.2.0",
            "_view_name": "StyleView",
            "description_width": ""
          }
        }
      }
    }
  },
  "nbformat": 4,
  "nbformat_minor": 0
}
